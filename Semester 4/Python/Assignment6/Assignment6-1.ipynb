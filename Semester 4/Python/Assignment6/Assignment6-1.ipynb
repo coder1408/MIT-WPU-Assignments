{
 "cells": [
  {
   "cell_type": "code",
   "execution_count": 21,
   "metadata": {},
   "outputs": [],
   "source": [
    "class student:\n",
    "    def __init__(self, name, roll_no, physics, chemistry, maths, total, percentage, average):\n",
    "        self.name = name\n",
    "        self.roll_no = roll_no\n",
    "        self.physics = physics\n",
    "        self.chemistry = chemistry\n",
    "        self.maths = maths\n",
    "        self.total = total\n",
    "        self.percentage = percentage\n",
    "        self.average = average\n",
    "    \n",
    "    def getdata(self):\n",
    "        self.name = input(\"Enter the name of the student: \")\n",
    "        self.roll_no = int(input(\"Enter the roll no of the student: \"))\n",
    "        self.physics = int(input(\"Enter the marks of physics: \"))\n",
    "        self.chemistry = int(input(\"Enter the marks of chemistry: \"))\n",
    "        self.maths = int(input(\"Enter the marks of maths: \"))\n",
    "\n",
    "    def calculate(self):\n",
    "        self.total = self.physics + self.chemistry + self.maths\n",
    "        self.percentage = (self.total/300)*100\n",
    "        self.average = self.total/3\n",
    "        if self.average < 50:\n",
    "            self.grade = \"Fail\"\n",
    "    \n",
    "    def display(self):\n",
    "        print(\"Name:\", self.name)\n",
    "        print(\"Roll No:\", self.roll_no)\n",
    "        print(\"Physics:\", self.physics)\n",
    "        print(\"Chemistry:\", self.chemistry)\n",
    "        print(\"Maths:\", self.maths)\n",
    "        print(\"Total:\", self.total)\n",
    "        print(\"Percentage:\", self.percentage)\n",
    "        print(\"Average:\", self.average)\n",
    "        print(\"Grade:\", self.grade)\n"
   ]
  },
  {
   "cell_type": "code",
   "execution_count": 22,
   "metadata": {},
   "outputs": [
    {
     "name": "stdout",
     "output_type": "stream",
     "text": [
      "Name: sid\n",
      "Roll No: 30\n",
      "Physics: 4\n",
      "Chemistry: 5\n",
      "Maths: 6\n",
      "Total: 0\n",
      "Percentage: 0\n",
      "Average: 0\n",
      "Result: Fail\n"
     ]
    }
   ],
   "source": [
    "ishan = student(\"ishan\", 1, 0, 0, 0, 0, 0, 0)\n",
    "ishan.getdata()\n",
    "ishan.display()\n",
    "ishan.calculate()"
   ]
  },
  {
   "cell_type": "code",
   "execution_count": null,
   "metadata": {},
   "outputs": [],
   "source": []
  }
 ],
 "metadata": {
  "kernelspec": {
   "display_name": "base",
   "language": "python",
   "name": "python3"
  },
  "language_info": {
   "codemirror_mode": {
    "name": "ipython",
    "version": 3
   },
   "file_extension": ".py",
   "mimetype": "text/x-python",
   "name": "python",
   "nbconvert_exporter": "python",
   "pygments_lexer": "ipython3",
   "version": "3.11.5"
  }
 },
 "nbformat": 4,
 "nbformat_minor": 2
}
