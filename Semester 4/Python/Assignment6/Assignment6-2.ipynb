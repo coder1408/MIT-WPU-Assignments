{
 "cells": [
  {
   "cell_type": "code",
   "execution_count": 25,
   "metadata": {},
   "outputs": [],
   "source": [
    "class Employee:\n",
    "    count = 0\n",
    "    def __init__(self, name, salary):\n",
    "        self.name = name\n",
    "        self.sal = salary\n",
    "        Employee.count += 1\n",
    "    def print(self):\n",
    "        print(f\"Name: {self.name}, Salary: {self.sal}\")\n",
    "    def printcount(self):\n",
    "        print(f\"No. of employees: {self.count}\")"
   ]
  },
  {
   "cell_type": "code",
   "execution_count": 26,
   "metadata": {},
   "outputs": [
    {
     "name": "stdout",
     "output_type": "stream",
     "text": [
      "Name: Ishan, Salary: 10\n",
      "Name: Jinesh, Salary: 20\n",
      "No. of employees: 2\n"
     ]
    }
   ],
   "source": [
    "x = Employee('Ishan', '10')\n",
    "x1 = Employee('Jinesh', '20')\n",
    "x.print()\n",
    "x1.print()\n",
    "x1.printcount()"
   ]
  },
  {
   "cell_type": "code",
   "execution_count": 27,
   "metadata": {},
   "outputs": [],
   "source": [
    "class Student:\n",
    "    def __init__(self, name, contact):\n",
    "        self.name = name\n",
    "        self.contact = contact\n",
    "    \n",
    "    def getdata(self):\n",
    "        self.name = input(\"Enter name of student: \")\n",
    "        self.contact = input(\"Enter contact information: \")\n",
    "    \n",
    "    def display(self):\n",
    "        print(f\"Name: {self.name}\")\n",
    "        print(f\"Contact: {self.contact}\")"
   ]
  },
  {
   "cell_type": "code",
   "execution_count": 29,
   "metadata": {},
   "outputs": [
    {
     "name": "stdout",
     "output_type": "stream",
     "text": [
      "Name: Ishan\n",
      "Contact: 0\n"
     ]
    }
   ],
   "source": [
    "abc = Student(0,0)\n",
    "abc.getdata()\n",
    "abc.display()"
   ]
  },
  {
   "cell_type": "code",
   "execution_count": 31,
   "metadata": {},
   "outputs": [],
   "source": [
    "class engStudents(Student):\n",
    "    def __init__(self, name, contact, age):\n",
    "        super().__init__(name, contact)\n",
    "    \n",
    "    def getage(self):\n",
    "        self.age = input(\"Enter age of student: \")\n",
    "    \n",
    "    def displayage(self):\n",
    "        print(f\"Age: {self.age}\")"
   ]
  },
  {
   "cell_type": "code",
   "execution_count": 33,
   "metadata": {},
   "outputs": [
    {
     "name": "stdout",
     "output_type": "stream",
     "text": [
      "Name: Ishan\n",
      "Contact: 0\n",
      "Age: 20\n"
     ]
    }
   ],
   "source": [
    "abcd = engStudents(0,0,0)\n",
    "abcd.getdata()\n",
    "abcd.getage()\n",
    "abcd.display()\n",
    "abcd.displayage()"
   ]
  }
 ],
 "metadata": {
  "kernelspec": {
   "display_name": "Python 3",
   "language": "python",
   "name": "python3"
  },
  "language_info": {
   "codemirror_mode": {
    "name": "ipython",
    "version": 3
   },
   "file_extension": ".py",
   "mimetype": "text/x-python",
   "name": "python",
   "nbconvert_exporter": "python",
   "pygments_lexer": "ipython3",
   "version": "3.11.0"
  }
 },
 "nbformat": 4,
 "nbformat_minor": 2
}
