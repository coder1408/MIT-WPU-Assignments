{
 "cells": [
  {
   "cell_type": "code",
   "execution_count": 1,
   "metadata": {},
   "outputs": [
    {
     "name": "stdout",
     "output_type": "stream",
     "text": [
      "Hello, how old are you?  10\n",
      "Thank you!\n"
     ]
    }
   ],
   "source": [
    "import threading\n",
    "\n",
    "def print_hello(n):\n",
    "    print('Hello, how old are you? ', n)\n",
    "\n",
    "t1 = threading.Thread(target=print_hello, args=(10,))\n",
    "t1.start()\n",
    "t1.join()\n",
    "print('Thank you!')"
   ]
  },
  {
   "cell_type": "code",
   "execution_count": 13,
   "metadata": {},
   "outputs": [
    {
     "name": "stdout",
     "output_type": "stream",
     "text": [
      "Square of number is 1\n",
      "Square of number is 4\n",
      "Square of number is 9\n",
      "Square of number is 16\n",
      "Square of number is 25\n",
      "Cube of number is  1\n",
      "Cube of number is  8\n",
      "Cube of number is  27\n",
      "Cube of number is  64\n",
      "Cube of number is  125\n"
     ]
    }
   ],
   "source": [
    "import threading\n",
    "import time\n",
    "\n",
    "def cal_sqr(num):\n",
    "    for n in num:\n",
    "        #time.sleep(0.1)\n",
    "        print('Square of number is', n*n)\n",
    "\n",
    "def cal_cube(num):\n",
    "    for n in num:\n",
    "        #time.sleep(0.2)\n",
    "        print('Cube of number is ', n*n*n)\n",
    "\n",
    "arr = [1,2,3,4,5]\n",
    "\n",
    "t1 = threading.Thread(target= cal_sqr, args=(arr, ))\n",
    "t2 = threading.Thread(target= cal_cube, args= (arr, ))\n",
    "\n",
    "t1.start()\n",
    "time.sleep(2)\n",
    "t2.start()\n",
    "t1.join()\n",
    "t2.join()"
   ]
  },
  {
   "cell_type": "code",
   "execution_count": null,
   "metadata": {},
   "outputs": [],
   "source": []
  }
 ],
 "metadata": {
  "kernelspec": {
   "display_name": "Python 3",
   "language": "python",
   "name": "python3"
  },
  "language_info": {
   "codemirror_mode": {
    "name": "ipython",
    "version": 3
   },
   "file_extension": ".py",
   "mimetype": "text/x-python",
   "name": "python",
   "nbconvert_exporter": "python",
   "pygments_lexer": "ipython3",
   "version": "3.11.8"
  }
 },
 "nbformat": 4,
 "nbformat_minor": 2
}
