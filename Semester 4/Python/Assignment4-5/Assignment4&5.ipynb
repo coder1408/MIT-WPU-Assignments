{
 "cells": [
  {
   "cell_type": "markdown",
   "metadata": {},
   "source": [
    "Find sum of even numbers in a list (Without user input)"
   ]
  },
  {
   "cell_type": "code",
   "execution_count": 1,
   "metadata": {},
   "outputs": [
    {
     "name": "stdout",
     "output_type": "stream",
     "text": [
      "[1, 2, 3, 4, 5, 6, 7, 8, 9, 10]\n"
     ]
    }
   ],
   "source": [
    "order = []\n",
    "for i in range(1, 11):\n",
    "    order.append(i)\n",
    "print(order)"
   ]
  },
  {
   "cell_type": "code",
   "execution_count": 2,
   "metadata": {},
   "outputs": [
    {
     "name": "stdout",
     "output_type": "stream",
     "text": [
      "30\n"
     ]
    }
   ],
   "source": [
    "even_sum = 0\n",
    "for element in order:\n",
    "    if element % 2 == 0:\n",
    "        even_sum += element\n",
    "\n",
    "print(even_sum)"
   ]
  },
  {
   "cell_type": "markdown",
   "metadata": {},
   "source": [
    "Find sum of even numbers (With User input)"
   ]
  },
  {
   "cell_type": "code",
   "execution_count": 3,
   "metadata": {},
   "outputs": [
    {
     "name": "stdout",
     "output_type": "stream",
     "text": [
      "[2, 4]\n"
     ]
    }
   ],
   "source": [
    "order.clear()\n",
    "num = int(input(\"Enter the number of elements: \"))\n",
    "for i in range(num):\n",
    "    order.append(int(input(\"Enter the element: \")))\n",
    "print(order)"
   ]
  },
  {
   "cell_type": "code",
   "execution_count": 4,
   "metadata": {},
   "outputs": [
    {
     "name": "stdout",
     "output_type": "stream",
     "text": [
      "6\n"
     ]
    }
   ],
   "source": [
    "even_sum = 0\n",
    "for element in order:\n",
    "    if element % 2 == 0:\n",
    "        even_sum += element\n",
    "\n",
    "print(even_sum)"
   ]
  },
  {
   "cell_type": "markdown",
   "metadata": {},
   "source": [
    "Remove duplicates from a order of words"
   ]
  },
  {
   "cell_type": "code",
   "execution_count": 5,
   "metadata": {},
   "outputs": [
    {
     "name": "stdout",
     "output_type": "stream",
     "text": [
      "['ishan', 'radha', 'ishan']\n"
     ]
    }
   ],
   "source": [
    "order.clear()\n",
    "num = int(input(\"Enter the number of words: \"))\n",
    "for i in range(num):\n",
    "    order.append(input(\"Enter the word: \").lower())\n",
    "print(order)"
   ]
  },
  {
   "cell_type": "code",
   "execution_count": 6,
   "metadata": {},
   "outputs": [
    {
     "name": "stdout",
     "output_type": "stream",
     "text": [
      "ishan\n",
      "['radha', 'ishan']\n"
     ]
    }
   ],
   "source": [
    "#delete duplicates\n",
    "for element in order:\n",
    "    if (element in order) and (order.count(element) > 1):\n",
    "        print(element)\n",
    "        order.remove(element)\n",
    "print(order)"
   ]
  },
  {
   "cell_type": "markdown",
   "metadata": {},
   "source": [
    "Counting the occurrences of a sepcific character in a String"
   ]
  },
  {
   "cell_type": "code",
   "execution_count": 15,
   "metadata": {},
   "outputs": [
    {
     "name": "stdout",
     "output_type": "stream",
     "text": [
      "['r', 'a', 'c', 'e', 'c', 'a', 'r']\n"
     ]
    }
   ],
   "source": [
    "order.clear()\n",
    "string = input(\"Enter the string: \")\n",
    "str_list = []\n",
    "for char in string:\n",
    "    str_list.append(char)\n",
    "print(str_list)"
   ]
  },
  {
   "cell_type": "code",
   "execution_count": 16,
   "metadata": {},
   "outputs": [
    {
     "name": "stdout",
     "output_type": "stream",
     "text": [
      "r\n",
      "c\n",
      "a\n",
      "['e', 'c', 'a', 'r']\n"
     ]
    }
   ],
   "source": [
    "for element in str_list:\n",
    "    if (element in str_list) and (str_list.count(element) > 1):\n",
    "        print(element)\n",
    "        str_list.remove(element)\n",
    "print(str_list)"
   ]
  },
  {
   "cell_type": "markdown",
   "metadata": {},
   "source": [
    "Create a phonebook that stores names and phonenumbers, and retireve a phone number given a name"
   ]
  },
  {
   "cell_type": "code",
   "execution_count": 2,
   "metadata": {},
   "outputs": [
    {
     "name": "stdout",
     "output_type": "stream",
     "text": [
      "Contact already exists\n"
     ]
    }
   ],
   "source": [
    "phonebook = {'Ishan': 9404841425, 'Rohan': 9850968556, 'Sohan': 9922557862}\n",
    "#add new contact\n",
    "while True:\n",
    "    name = input(\"Enter the name: \")\n",
    "    if name in phonebook:\n",
    "        print(\"Contact already exists\")\n",
    "    else:\n",
    "        number = int(input(\"Enter the number: \"))\n",
    "        phonebook[name] = number\n",
    "        print(phonebook)\n",
    "    if input(\"Do you want to add another contact? (yes/no): \").lower() == 'no':\n",
    "        break"
   ]
  },
  {
   "cell_type": "code",
   "execution_count": 4,
   "metadata": {},
   "outputs": [
    {
     "name": "stdout",
     "output_type": "stream",
     "text": [
      "Not found\n"
     ]
    }
   ],
   "source": [
    "#Search for a contact\n",
    "while True:\n",
    "    name = input(\"Enter the name: \")\n",
    "    if name in phonebook:\n",
    "        print('Name:', name, 'Number:', phonebook[name])\n",
    "        if input(\"Do you want to search for another contact? (yes/no): \").lower() == 'no':\n",
    "            break\n",
    "    else:\n",
    "        print(\"Not found\")\n",
    "        if input(\"Do you want to search for another contact? (yes/no): \").lower() == 'no':\n",
    "            break"
   ]
  },
  {
   "cell_type": "markdown",
   "metadata": {},
   "source": [
    "1) Accept 20 values from user and save it in list. Perform following\n",
    "operations on it:\n",
    "\n",
    "a) Count similar elements of list and print their index value.\n",
    "\n",
    "b) Count even and odd values of list.\n",
    "\n",
    "c) Count positive and negative values of list."
   ]
  },
  {
   "cell_type": "code",
   "execution_count": 8,
   "metadata": {},
   "outputs": [
    {
     "name": "stdout",
     "output_type": "stream",
     "text": [
      "[1, 2, 3, 4, 5, 6, 7, 8, 9, 1, 2, 3, 4, 5, 6, 7, 8, 9, 10, 11]\n"
     ]
    }
   ],
   "source": [
    "list1 = []\n",
    "num = 0\n",
    "while(num < 20):\n",
    "    list1.append(int(input(\"Enter the number: \")))\n",
    "    num += 1\n",
    "print(list1)"
   ]
  },
  {
   "cell_type": "code",
   "execution_count": 9,
   "metadata": {},
   "outputs": [
    {
     "name": "stdout",
     "output_type": "stream",
     "text": [
      "0\n",
      "1\n",
      "2\n",
      "3\n",
      "4\n",
      "5\n",
      "6\n",
      "7\n",
      "8\n",
      "0\n",
      "1\n",
      "2\n",
      "3\n",
      "4\n",
      "5\n",
      "6\n",
      "7\n",
      "8\n"
     ]
    }
   ],
   "source": [
    "for element in list1:\n",
    "    if (element in list1) and (list1.count(element) > 1):\n",
    "        print(list1.index(element))"
   ]
  },
  {
   "cell_type": "code",
   "execution_count": 10,
   "metadata": {},
   "outputs": [
    {
     "name": "stdout",
     "output_type": "stream",
     "text": [
      "Even numbers: 9 Odd numbers: 11\n"
     ]
    }
   ],
   "source": [
    "even_nos = 0\n",
    "odd_nos = 0\n",
    "for element in list1:\n",
    "    if element % 2 == 0:\n",
    "        even_nos += 1\n",
    "    else:\n",
    "        odd_nos += 1\n",
    "print(\"Even numbers:\", even_nos, \"Odd numbers:\", odd_nos)"
   ]
  },
  {
   "cell_type": "code",
   "execution_count": 11,
   "metadata": {},
   "outputs": [
    {
     "name": "stdout",
     "output_type": "stream",
     "text": [
      "Positive numbers: 20 Negative numbers: 0\n"
     ]
    }
   ],
   "source": [
    "positive_nos = 0\n",
    "negative_nos = 0\n",
    "for element in list1:\n",
    "    if element > 0:\n",
    "        positive_nos += 1\n",
    "    else:\n",
    "        negative_nos += 1\n",
    "print(\"Positive numbers:\", positive_nos, \"Negative numbers:\", negative_nos)"
   ]
  },
  {
   "cell_type": "markdown",
   "metadata": {},
   "source": [
    "2) Accept 10 values from user and save it in list. Perform following operations on it\n",
    "\n",
    "a) Sort list in ascending order and display sorted list\n",
    "\n",
    "b) sort list in descending order and display sorted list\n",
    "\n",
    "c) display length of list"
   ]
  },
  {
   "cell_type": "code",
   "execution_count": 17,
   "metadata": {},
   "outputs": [
    {
     "name": "stdout",
     "output_type": "stream",
     "text": [
      "[1, 3, 5, 7, 9, 2, 6, 8, 4, 6]\n"
     ]
    }
   ],
   "source": [
    "list2 = []\n",
    "num = 0\n",
    "while(num < 10):\n",
    "    list2.append(int(input(\"Enter the number: \")))\n",
    "    num += 1\n",
    "print(list2)"
   ]
  },
  {
   "cell_type": "code",
   "execution_count": 18,
   "metadata": {},
   "outputs": [
    {
     "name": "stdout",
     "output_type": "stream",
     "text": [
      "[1, 2, 3, 4, 5, 6, 6, 7, 8, 9]\n"
     ]
    }
   ],
   "source": [
    "list.sort(list2)\n",
    "print(list2)"
   ]
  },
  {
   "cell_type": "code",
   "execution_count": 19,
   "metadata": {},
   "outputs": [
    {
     "name": "stdout",
     "output_type": "stream",
     "text": [
      "[9, 8, 7, 6, 6, 5, 4, 3, 2, 1]\n"
     ]
    }
   ],
   "source": [
    "list.sort(list2, reverse=True)\n",
    "print(list2)"
   ]
  },
  {
   "cell_type": "code",
   "execution_count": 20,
   "metadata": {},
   "outputs": [
    {
     "name": "stdout",
     "output_type": "stream",
     "text": [
      "10\n"
     ]
    }
   ],
   "source": [
    "print(len(list2))"
   ]
  }
 ],
 "metadata": {
  "kernelspec": {
   "display_name": "Python 3",
   "language": "python",
   "name": "python3"
  },
  "language_info": {
   "codemirror_mode": {
    "name": "ipython",
    "version": 3
   },
   "file_extension": ".py",
   "mimetype": "text/x-python",
   "name": "python",
   "nbconvert_exporter": "python",
   "pygments_lexer": "ipython3",
   "version": "3.11.0"
  }
 },
 "nbformat": 4,
 "nbformat_minor": 2
}
