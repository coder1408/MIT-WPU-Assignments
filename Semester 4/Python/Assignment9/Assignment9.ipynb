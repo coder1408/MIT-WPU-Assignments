{
 "cells": [
  {
   "cell_type": "code",
   "execution_count": 1,
   "metadata": {},
   "outputs": [],
   "source": [
    "import re"
   ]
  },
  {
   "cell_type": "markdown",
   "metadata": {},
   "source": [
    "Recognize the following strings: 'bat', 'bit', 'but', 'hat', 'hit' or 'hut'"
   ]
  },
  {
   "cell_type": "code",
   "execution_count": 2,
   "metadata": {},
   "outputs": [
    {
     "name": "stdout",
     "output_type": "stream",
     "text": [
      "bat matches the pattern.\n",
      "bit matches the pattern.\n",
      "but matches the pattern.\n",
      "hat matches the pattern.\n",
      "hit matches the pattern.\n",
      "hut matches the pattern.\n"
     ]
    }
   ],
   "source": [
    "pattern_a = r'\\b(b[aiu]t|h[aiu]t)\\b'\n",
    "\n",
    "test_strings = ['bat', 'bit', 'but', 'hat', 'hit', 'hut']\n",
    "for string in test_strings:\n",
    "    if re.match(pattern_a, string):\n",
    "        print(f\"{string} matches the pattern.\")\n",
    "    else:\n",
    "        print(f\"{string} does not match the pattern.\")\n"
   ]
  },
  {
   "cell_type": "markdown",
   "metadata": {},
   "source": [
    " Match any pair of words seperated by a single spacce i.e first and last names"
   ]
  },
  {
   "cell_type": "code",
   "execution_count": 3,
   "metadata": {},
   "outputs": [
    {
     "name": "stdout",
     "output_type": "stream",
     "text": [
      "John Doe matches the pattern.\n"
     ]
    }
   ],
   "source": [
    "pattern_b = r'\\b\\w+\\s+\\w+\\b'\n",
    "\n",
    "test_string = \"John Doe\"\n",
    "if re.match(pattern_b, test_string):\n",
    "    print(f\"{test_string} matches the pattern.\")\n",
    "else:\n",
    "    print(f\"{test_string} does not match the pattern.\")\n"
   ]
  },
  {
   "cell_type": "markdown",
   "metadata": {},
   "source": [
    "Match any word and single letter seperated by a comma and single space as in last name, first initial"
   ]
  },
  {
   "cell_type": "code",
   "execution_count": 4,
   "metadata": {},
   "outputs": [
    {
     "name": "stdout",
     "output_type": "stream",
     "text": [
      "Doe, J matches the pattern.\n"
     ]
    }
   ],
   "source": [
    "pattern_c = r'\\b\\w+,\\s[A-Za-z]\\b'\n",
    "\n",
    "test_string = \"Doe, J\"\n",
    "if re.match(pattern_c, test_string):\n",
    "    print(f\"{test_string} matches the pattern.\")\n",
    "else:\n",
    "    print(f\"{test_string} does not match the pattern.\")\n"
   ]
  }
 ],
 "metadata": {
  "kernelspec": {
   "display_name": "Python 3",
   "language": "python",
   "name": "python3"
  },
  "language_info": {
   "codemirror_mode": {
    "name": "ipython",
    "version": 3
   },
   "file_extension": ".py",
   "mimetype": "text/x-python",
   "name": "python",
   "nbconvert_exporter": "python",
   "pygments_lexer": "ipython3",
   "version": "3.11.8"
  }
 },
 "nbformat": 4,
 "nbformat_minor": 2
}
