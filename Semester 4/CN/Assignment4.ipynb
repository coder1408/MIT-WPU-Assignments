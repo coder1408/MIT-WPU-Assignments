{
 "cells": [
  {
   "cell_type": "markdown",
   "metadata": {},
   "source": [
    "## Hamming's Code for error detection and correction"
   ]
  },
  {
   "cell_type": "code",
   "execution_count": 17,
   "metadata": {},
   "outputs": [
    {
     "name": "stdout",
     "output_type": "stream",
     "text": [
      "['1', '0', '0', '1']\n",
      "4\n"
     ]
    }
   ],
   "source": [
    "# Taking input from user\n",
    "num = input(\"Enter binary data with spaces: \")\n",
    "binary_list = num.split()\n",
    "num = num.replace(\" \", \"\")\n",
    "d = len(num)\n",
    "print(binary_list)\n",
    "print(d)"
   ]
  },
  {
   "cell_type": "code",
   "execution_count": 18,
   "metadata": {},
   "outputs": [
    {
     "name": "stdout",
     "output_type": "stream",
     "text": [
      "3\n",
      "Code Word Length:  7\n"
     ]
    }
   ],
   "source": [
    "# Finding value of r\n",
    "r = 0\n",
    "while(2**r < d + r + 1):\n",
    "    r += 1\n",
    "n = d + r\n",
    "print(r)\n",
    "print(\"Code Word Length: \", n)"
   ]
  },
  {
   "cell_type": "code",
   "execution_count": 19,
   "metadata": {},
   "outputs": [
    {
     "name": "stdout",
     "output_type": "stream",
     "text": [
      "['r1', 'r2', '1', 'r3', '0', '0', '1']\n"
     ]
    }
   ],
   "source": [
    "# placing parity bits in the code\n",
    "reversed_list = binary_list[::-1]\n",
    "pos = 1\n",
    "for i in range(r):\n",
    "    reversed_list.insert(2**i - 1, f'r{pos}')\n",
    "    pos += 1\n",
    "print(reversed_list)"
   ]
  },
  {
   "cell_type": "code",
   "execution_count": 20,
   "metadata": {},
   "outputs": [
    {
     "name": "stdout",
     "output_type": "stream",
     "text": [
      "['r1', 'r2', 1, 'r3', 0, 0, 1]\n"
     ]
    }
   ],
   "source": [
    "# converting str to int\n",
    "pos = 0\n",
    "for i, element in enumerate(reversed_list):\n",
    "    if element == f'r{pos}':\n",
    "        continue\n",
    "    elif element == '0' or element == '1':\n",
    "        reversed_list[i] = int(element)\n",
    "    pos += 1\n",
    "print(reversed_list)"
   ]
  },
  {
   "cell_type": "code",
   "execution_count": 21,
   "metadata": {},
   "outputs": [
    {
     "name": "stdout",
     "output_type": "stream",
     "text": [
      "[0, 0, 1, 1, 0, 0, 1]\n"
     ]
    }
   ],
   "source": [
    "pos = 0\n",
    "for i in range(r):\n",
    "    # Calculate the value of each parity bit\n",
    "    parity_bit_pos = 2**i\n",
    "    parity_bit_value = 0\n",
    "\n",
    "    for j in range(parity_bit_pos - 1, n, 2 * parity_bit_pos):\n",
    "        for k in range(j, min(j + parity_bit_pos, n)):\n",
    "            if isinstance(reversed_list[k], int):\n",
    "                parity_bit_value ^= reversed_list[k]\n",
    "\n",
    "    reversed_list[parity_bit_pos - 1] = parity_bit_value\n",
    "    pos += 1\n",
    "print(reversed_list)"
   ]
  },
  {
   "cell_type": "code",
   "execution_count": 22,
   "metadata": {},
   "outputs": [
    {
     "name": "stdout",
     "output_type": "stream",
     "text": [
      "Final Code Word:  [1, 0, 0, 1, 1, 0, 0]\n"
     ]
    }
   ],
   "source": [
    "binary_list = reversed_list[::-1]\n",
    "print(\"Final Code Word: \", binary_list)"
   ]
  },
  {
   "cell_type": "code",
   "execution_count": 23,
   "metadata": {},
   "outputs": [
    {
     "name": "stdout",
     "output_type": "stream",
     "text": [
      "Code Word after changing:  [1, 0, 0, 1, 1, 0, 0]\n"
     ]
    }
   ],
   "source": [
    "#introducing error in data\n",
    "error_index = input(\"Enter the position to change: \")\n",
    "changed_list = list(binary_list)\n",
    "error_index = int(error_index)\n",
    "if changed_list[error_index] == 0:\n",
    "    changed_list[error_index] = 1\n",
    "else:\n",
    "    changed_list[error_index] = 0\n",
    "print(\"Code Word after changing: \", binary_list)"
   ]
  },
  {
   "cell_type": "code",
   "execution_count": 24,
   "metadata": {},
   "outputs": [
    {
     "name": "stdout",
     "output_type": "stream",
     "text": [
      "Error Found at index: 5\n",
      "Corrected Codeword is: [1, 1, 0, 1, 1, 1, 0]\n"
     ]
    }
   ],
   "source": [
    "error = 0\n",
    "for i in range(r):\n",
    "    # Calculate the value of each parity bit\n",
    "    parity_bit_pos = 2**i\n",
    "    parity_bit_value = 0\n",
    "\n",
    "    for j in range(parity_bit_pos - 1, n, 2 * parity_bit_pos):\n",
    "        for k in range(j, min(j + parity_bit_pos, n)):\n",
    "            if isinstance(changed_list[k], int):\n",
    "                parity_bit_value ^= changed_list[k]\n",
    "    \n",
    "    if(parity_bit_value != changed_list[parity_bit_pos - 1]):\n",
    "        error += parity_bit_pos\n",
    "\n",
    "# If the error is non-zero, correct the error\n",
    "if error != 0:\n",
    "    error_index = error\n",
    "    changed_list[error_index] = 1 - changed_list[error_index]  # Correct the error\n",
    "corrected_list = changed_list\n",
    "\n",
    "print(\"Error Found at index:\", error_index)\n",
    "print(\"Corrected Codeword is:\", corrected_list)"
   ]
  }
 ],
 "metadata": {
  "kernelspec": {
   "display_name": "Python 3 (ipykernel)",
   "language": "python",
   "name": "python3"
  },
  "language_info": {
   "codemirror_mode": {
    "name": "ipython",
    "version": 3
   },
   "file_extension": ".py",
   "mimetype": "text/x-python",
   "name": "python",
   "nbconvert_exporter": "python",
   "pygments_lexer": "ipython3",
   "version": "3.11.0"
  }
 },
 "nbformat": 4,
 "nbformat_minor": 2
}
