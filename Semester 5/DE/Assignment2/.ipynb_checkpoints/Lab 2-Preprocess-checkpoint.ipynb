{
 "cells": [
  {
   "cell_type": "markdown",
   "metadata": {
    "id": "2tQrJ-4MOEUg"
   },
   "source": [
    "Data Cleaning:"
   ]
  },
  {
   "cell_type": "markdown",
   "metadata": {
    "id": "mLSVPMJOOEUu"
   },
   "source": [
    "Step1:Import all libraries"
   ]
  },
  {
   "cell_type": "code",
   "execution_count": 11,
   "metadata": {
    "colab": {
     "base_uri": "https://localhost:8080/",
     "height": 73
    },
    "executionInfo": {
     "elapsed": 16555,
     "status": "ok",
     "timestamp": 1692159345601,
     "user": {
      "displayName": "Anita Thengade",
      "userId": "00058614709673072476"
     },
     "user_tz": -330
    },
    "id": "nlStyHZAOEUw",
    "outputId": "9527d978-b51e-4557-8327-fb58e1fe25ce"
   },
   "outputs": [],
   "source": [
    "#import libraries\n",
    "import numpy as np\n",
    "import pandas as pd\n",
    "import matplotlib.pyplot as plt\n",
    "import seaborn as sns\n"
   ]
  },
  {
   "cell_type": "markdown",
   "metadata": {
    "id": "9Mm2ZipIOEU2"
   },
   "source": [
    "**Step 2: Import Dataset **"
   ]
  },
  {
   "cell_type": "code",
   "execution_count": 12,
   "metadata": {
    "id": "eJ1mZz6SOEU4"
   },
   "outputs": [],
   "source": [
    "dataset=pd.read_csv((\"WorldCupMatches.csv\"))"
   ]
  },
  {
   "cell_type": "code",
   "execution_count": 13,
   "metadata": {
    "colab": {
     "base_uri": "https://localhost:8080/",
     "height": 372
    },
    "executionInfo": {
     "elapsed": 6,
     "status": "ok",
     "timestamp": 1692159367872,
     "user": {
      "displayName": "Anita Thengade",
      "userId": "00058614709673072476"
     },
     "user_tz": -330
    },
    "id": "pzoHq_-OOEU5",
    "outputId": "14be1a56-21e7-452b-f391-1f9475a6d674"
   },
   "outputs": [
    {
     "data": {
      "text/html": [
       "<div>\n",
       "<style scoped>\n",
       "    .dataframe tbody tr th:only-of-type {\n",
       "        vertical-align: middle;\n",
       "    }\n",
       "\n",
       "    .dataframe tbody tr th {\n",
       "        vertical-align: top;\n",
       "    }\n",
       "\n",
       "    .dataframe thead th {\n",
       "        text-align: right;\n",
       "    }\n",
       "</style>\n",
       "<table border=\"1\" class=\"dataframe\">\n",
       "  <thead>\n",
       "    <tr style=\"text-align: right;\">\n",
       "      <th></th>\n",
       "      <th>Year</th>\n",
       "      <th>Datetime</th>\n",
       "      <th>Stage</th>\n",
       "      <th>Stadium</th>\n",
       "      <th>City</th>\n",
       "      <th>Home Team Name</th>\n",
       "      <th>Home Team Goals</th>\n",
       "      <th>Away Team Goals</th>\n",
       "      <th>Away Team Name</th>\n",
       "      <th>Win conditions</th>\n",
       "      <th>Attendance</th>\n",
       "      <th>Half-time Home Goals</th>\n",
       "      <th>Half-time Away Goals</th>\n",
       "      <th>Referee</th>\n",
       "      <th>Assistant 1</th>\n",
       "      <th>Assistant 2</th>\n",
       "      <th>RoundID</th>\n",
       "      <th>MatchID</th>\n",
       "      <th>Home Team Initials</th>\n",
       "      <th>Away Team Initials</th>\n",
       "    </tr>\n",
       "  </thead>\n",
       "  <tbody>\n",
       "    <tr>\n",
       "      <th>0</th>\n",
       "      <td>1930.0</td>\n",
       "      <td>13 Jul 1930 - 15:00</td>\n",
       "      <td>Group 1</td>\n",
       "      <td>Pocitos</td>\n",
       "      <td>Montevideo</td>\n",
       "      <td>France</td>\n",
       "      <td>4.0</td>\n",
       "      <td>1.0</td>\n",
       "      <td>Mexico</td>\n",
       "      <td></td>\n",
       "      <td>4444.0</td>\n",
       "      <td>3.0</td>\n",
       "      <td>0.0</td>\n",
       "      <td>LOMBARDI Domingo (URU)</td>\n",
       "      <td>CRISTOPHE Henry (BEL)</td>\n",
       "      <td>REGO Gilberto (BRA)</td>\n",
       "      <td>201.0</td>\n",
       "      <td>1096.0</td>\n",
       "      <td>FRA</td>\n",
       "      <td>MEX</td>\n",
       "    </tr>\n",
       "    <tr>\n",
       "      <th>1</th>\n",
       "      <td>1930.0</td>\n",
       "      <td>13 Jul 1930 - 15:00</td>\n",
       "      <td>Group 4</td>\n",
       "      <td>Parque Central</td>\n",
       "      <td>Montevideo</td>\n",
       "      <td>USA</td>\n",
       "      <td>3.0</td>\n",
       "      <td>0.0</td>\n",
       "      <td>Belgium</td>\n",
       "      <td></td>\n",
       "      <td>18346.0</td>\n",
       "      <td>2.0</td>\n",
       "      <td>0.0</td>\n",
       "      <td>MACIAS Jose (ARG)</td>\n",
       "      <td>MATEUCCI Francisco (URU)</td>\n",
       "      <td>WARNKEN Alberto (CHI)</td>\n",
       "      <td>201.0</td>\n",
       "      <td>1090.0</td>\n",
       "      <td>USA</td>\n",
       "      <td>BEL</td>\n",
       "    </tr>\n",
       "    <tr>\n",
       "      <th>2</th>\n",
       "      <td>1930.0</td>\n",
       "      <td>14 Jul 1930 - 12:45</td>\n",
       "      <td>Group 2</td>\n",
       "      <td>Parque Central</td>\n",
       "      <td>Montevideo</td>\n",
       "      <td>Yugoslavia</td>\n",
       "      <td>2.0</td>\n",
       "      <td>1.0</td>\n",
       "      <td>Brazil</td>\n",
       "      <td></td>\n",
       "      <td>24059.0</td>\n",
       "      <td>2.0</td>\n",
       "      <td>0.0</td>\n",
       "      <td>TEJADA Anibal (URU)</td>\n",
       "      <td>VALLARINO Ricardo (URU)</td>\n",
       "      <td>BALWAY Thomas (FRA)</td>\n",
       "      <td>201.0</td>\n",
       "      <td>1093.0</td>\n",
       "      <td>YUG</td>\n",
       "      <td>BRA</td>\n",
       "    </tr>\n",
       "    <tr>\n",
       "      <th>3</th>\n",
       "      <td>1930.0</td>\n",
       "      <td>14 Jul 1930 - 14:50</td>\n",
       "      <td>Group 3</td>\n",
       "      <td>Pocitos</td>\n",
       "      <td>Montevideo</td>\n",
       "      <td>Romania</td>\n",
       "      <td>3.0</td>\n",
       "      <td>1.0</td>\n",
       "      <td>Peru</td>\n",
       "      <td></td>\n",
       "      <td>2549.0</td>\n",
       "      <td>1.0</td>\n",
       "      <td>0.0</td>\n",
       "      <td>WARNKEN Alberto (CHI)</td>\n",
       "      <td>LANGENUS Jean (BEL)</td>\n",
       "      <td>MATEUCCI Francisco (URU)</td>\n",
       "      <td>201.0</td>\n",
       "      <td>1098.0</td>\n",
       "      <td>ROU</td>\n",
       "      <td>PER</td>\n",
       "    </tr>\n",
       "    <tr>\n",
       "      <th>4</th>\n",
       "      <td>1930.0</td>\n",
       "      <td>15 Jul 1930 - 16:00</td>\n",
       "      <td>Group 1</td>\n",
       "      <td>Parque Central</td>\n",
       "      <td>Montevideo</td>\n",
       "      <td>Argentina</td>\n",
       "      <td>1.0</td>\n",
       "      <td>0.0</td>\n",
       "      <td>France</td>\n",
       "      <td></td>\n",
       "      <td>23409.0</td>\n",
       "      <td>0.0</td>\n",
       "      <td>0.0</td>\n",
       "      <td>REGO Gilberto (BRA)</td>\n",
       "      <td>SAUCEDO Ulises (BOL)</td>\n",
       "      <td>RADULESCU Constantin (ROU)</td>\n",
       "      <td>201.0</td>\n",
       "      <td>1085.0</td>\n",
       "      <td>ARG</td>\n",
       "      <td>FRA</td>\n",
       "    </tr>\n",
       "  </tbody>\n",
       "</table>\n",
       "</div>"
      ],
      "text/plain": [
       "     Year              Datetime    Stage         Stadium         City  \\\n",
       "0  1930.0  13 Jul 1930 - 15:00   Group 1         Pocitos  Montevideo    \n",
       "1  1930.0  13 Jul 1930 - 15:00   Group 4  Parque Central  Montevideo    \n",
       "2  1930.0  14 Jul 1930 - 12:45   Group 2  Parque Central  Montevideo    \n",
       "3  1930.0  14 Jul 1930 - 14:50   Group 3         Pocitos  Montevideo    \n",
       "4  1930.0  15 Jul 1930 - 16:00   Group 1  Parque Central  Montevideo    \n",
       "\n",
       "  Home Team Name  Home Team Goals  Away Team Goals Away Team Name  \\\n",
       "0         France              4.0              1.0         Mexico   \n",
       "1            USA              3.0              0.0        Belgium   \n",
       "2     Yugoslavia              2.0              1.0         Brazil   \n",
       "3        Romania              3.0              1.0           Peru   \n",
       "4      Argentina              1.0              0.0         France   \n",
       "\n",
       "  Win conditions  Attendance  Half-time Home Goals  Half-time Away Goals  \\\n",
       "0                     4444.0                   3.0                   0.0   \n",
       "1                    18346.0                   2.0                   0.0   \n",
       "2                    24059.0                   2.0                   0.0   \n",
       "3                     2549.0                   1.0                   0.0   \n",
       "4                    23409.0                   0.0                   0.0   \n",
       "\n",
       "                  Referee               Assistant 1  \\\n",
       "0  LOMBARDI Domingo (URU)     CRISTOPHE Henry (BEL)   \n",
       "1       MACIAS Jose (ARG)  MATEUCCI Francisco (URU)   \n",
       "2     TEJADA Anibal (URU)   VALLARINO Ricardo (URU)   \n",
       "3   WARNKEN Alberto (CHI)       LANGENUS Jean (BEL)   \n",
       "4     REGO Gilberto (BRA)      SAUCEDO Ulises (BOL)   \n",
       "\n",
       "                  Assistant 2  RoundID  MatchID Home Team Initials  \\\n",
       "0         REGO Gilberto (BRA)    201.0   1096.0                FRA   \n",
       "1       WARNKEN Alberto (CHI)    201.0   1090.0                USA   \n",
       "2         BALWAY Thomas (FRA)    201.0   1093.0                YUG   \n",
       "3    MATEUCCI Francisco (URU)    201.0   1098.0                ROU   \n",
       "4  RADULESCU Constantin (ROU)    201.0   1085.0                ARG   \n",
       "\n",
       "  Away Team Initials  \n",
       "0                MEX  \n",
       "1                BEL  \n",
       "2                BRA  \n",
       "3                PER  \n",
       "4                FRA  "
      ]
     },
     "execution_count": 13,
     "metadata": {},
     "output_type": "execute_result"
    }
   ],
   "source": [
    "dataset.head()\n"
   ]
  },
  {
   "cell_type": "code",
   "execution_count": 14,
   "metadata": {
    "colab": {
     "base_uri": "https://localhost:8080/"
    },
    "executionInfo": {
     "elapsed": 4,
     "status": "ok",
     "timestamp": 1692159370887,
     "user": {
      "displayName": "Anita Thengade",
      "userId": "00058614709673072476"
     },
     "user_tz": -330
    },
    "id": "D5rVb52UOEU9",
    "outputId": "37f5aca1-29bb-423b-dfc2-0f5d5309d5b7"
   },
   "outputs": [
    {
     "data": {
      "text/plain": [
       "(4572, 20)"
      ]
     },
     "execution_count": 14,
     "metadata": {},
     "output_type": "execute_result"
    }
   ],
   "source": [
    "dataset.shape"
   ]
  },
  {
   "cell_type": "code",
   "execution_count": 15,
   "metadata": {
    "id": "DC1DAlz2OEVA"
   },
   "outputs": [],
   "source": [
    "dataset=dataset.set_index('Datetime')"
   ]
  },
  {
   "cell_type": "code",
   "execution_count": 16,
   "metadata": {
    "colab": {
     "base_uri": "https://localhost:8080/"
    },
    "executionInfo": {
     "elapsed": 416,
     "status": "ok",
     "timestamp": 1692159383450,
     "user": {
      "displayName": "Anita Thengade",
      "userId": "00058614709673072476"
     },
     "user_tz": -330
    },
    "id": "gMiRxDzNOEVC",
    "outputId": "2f50bf44-5ddf-4520-80ac-49752ebfc327"
   },
   "outputs": [
    {
     "data": {
      "text/plain": [
       "Index(['Year', 'Stage', 'Stadium', 'City', 'Home Team Name', 'Home Team Goals',\n",
       "       'Away Team Goals', 'Away Team Name', 'Win conditions', 'Attendance',\n",
       "       'Half-time Home Goals', 'Half-time Away Goals', 'Referee',\n",
       "       'Assistant 1', 'Assistant 2', 'RoundID', 'MatchID',\n",
       "       'Home Team Initials', 'Away Team Initials'],\n",
       "      dtype='object')"
      ]
     },
     "execution_count": 16,
     "metadata": {},
     "output_type": "execute_result"
    }
   ],
   "source": [
    "dataset.columns"
   ]
  },
  {
   "cell_type": "code",
   "execution_count": 17,
   "metadata": {
    "colab": {
     "base_uri": "https://localhost:8080/"
    },
    "executionInfo": {
     "elapsed": 393,
     "status": "ok",
     "timestamp": 1692159390912,
     "user": {
      "displayName": "Anita Thengade",
      "userId": "00058614709673072476"
     },
     "user_tz": -330
    },
    "id": "t5cOUxesOEVE",
    "outputId": "9ad0ec26-2c95-4a8b-a4ba-d4f4d9376789"
   },
   "outputs": [
    {
     "data": {
      "text/plain": [
       "Year                    float64\n",
       "Stage                    object\n",
       "Stadium                  object\n",
       "City                     object\n",
       "Home Team Name           object\n",
       "Home Team Goals         float64\n",
       "Away Team Goals         float64\n",
       "Away Team Name           object\n",
       "Win conditions           object\n",
       "Attendance              float64\n",
       "Half-time Home Goals    float64\n",
       "Half-time Away Goals    float64\n",
       "Referee                  object\n",
       "Assistant 1              object\n",
       "Assistant 2              object\n",
       "RoundID                 float64\n",
       "MatchID                 float64\n",
       "Home Team Initials       object\n",
       "Away Team Initials       object\n",
       "dtype: object"
      ]
     },
     "execution_count": 17,
     "metadata": {},
     "output_type": "execute_result"
    }
   ],
   "source": [
    "dataset.dtypes"
   ]
  },
  {
   "cell_type": "code",
   "execution_count": 18,
   "metadata": {
    "colab": {
     "base_uri": "https://localhost:8080/"
    },
    "id": "vNhhD-hDOEVH",
    "outputId": "82513fac-2033-4adf-b2c1-b26f34816d8f"
   },
   "outputs": [
    {
     "name": "stdout",
     "output_type": "stream",
     "text": [
      "Datetime\n",
      "13 Jul 1930 - 15:00     Montevideo \n",
      "13 Jul 1930 - 15:00     Montevideo \n",
      "14 Jul 1930 - 12:45     Montevideo \n",
      "14 Jul 1930 - 14:50     Montevideo \n",
      "15 Jul 1930 - 16:00     Montevideo \n",
      "Name: City, dtype: object\n"
     ]
    }
   ],
   "source": [
    "# Slice the result for first 5 rows\n",
    "print (dataset[0:5]['City'])"
   ]
  },
  {
   "cell_type": "code",
   "execution_count": 19,
   "metadata": {
    "id": "V8y7SFd31Zlk"
   },
   "outputs": [
    {
     "data": {
      "text/plain": [
       "Datetime\n",
       "13 Jul 1930 - 15:00     Montevideo \n",
       "13 Jul 1930 - 15:00     Montevideo \n",
       "14 Jul 1930 - 12:45     Montevideo \n",
       "14 Jul 1930 - 14:50     Montevideo \n",
       "15 Jul 1930 - 16:00     Montevideo \n",
       "                           ...     \n",
       "NaN                             NaN\n",
       "NaN                             NaN\n",
       "NaN                             NaN\n",
       "NaN                             NaN\n",
       "NaN                             NaN\n",
       "Name: City, Length: 4572, dtype: object"
      ]
     },
     "execution_count": 19,
     "metadata": {},
     "output_type": "execute_result"
    }
   ],
   "source": [
    "dataset['City']"
   ]
  },
  {
   "cell_type": "code",
   "execution_count": 20,
   "metadata": {
    "colab": {
     "base_uri": "https://localhost:8080/"
    },
    "id": "5zV8H_kMOEVI",
    "outputId": "6f52fc0f-3dca-4e16-dfc8-75d2db4a9737"
   },
   "outputs": [
    {
     "name": "stdout",
     "output_type": "stream",
     "text": [
      "                             Stadium         City\n",
      "Datetime                                         \n",
      "13 Jul 1930 - 15:00          Pocitos  Montevideo \n",
      "13 Jul 1930 - 15:00   Parque Central  Montevideo \n",
      "14 Jul 1930 - 12:45   Parque Central  Montevideo \n",
      "14 Jul 1930 - 14:50          Pocitos  Montevideo \n",
      "15 Jul 1930 - 16:00   Parque Central  Montevideo \n",
      "...                              ...          ...\n",
      "NaN                              NaN          NaN\n",
      "NaN                              NaN          NaN\n",
      "NaN                              NaN          NaN\n",
      "NaN                              NaN          NaN\n",
      "NaN                              NaN          NaN\n",
      "\n",
      "[4572 rows x 2 columns]\n"
     ]
    }
   ],
   "source": [
    "# Reading Specific Columns\n",
    "print (dataset.loc[:,['Stadium','City']])"
   ]
  },
  {
   "cell_type": "markdown",
   "metadata": {
    "id": "XoXptw_QOEVN"
   },
   "source": [
    "Step3: Check for missing values\n",
    "In Pandas missing data is represented by two value:\n",
    "\n",
    "None: None is a Python singleton object that is often used for missing data in Python code.\n",
    "\n",
    "NaN : NaN (an acronym for Not a Number), is a special floating-point value recognized by all systems that use the standard IEEE floating-point representation:\n",
    "\n",
    "isnull()\n",
    "notnull()\n",
    "dropna()\n",
    "fillna()\n",
    "replace()\n",
    "interpolate()"
   ]
  },
  {
   "cell_type": "code",
   "execution_count": 21,
   "metadata": {
    "colab": {
     "base_uri": "https://localhost:8080/",
     "height": 691
    },
    "id": "epk3ikDyOEVP",
    "outputId": "b48a7ab5-f556-4f57-ba1d-53d81c59273a"
   },
   "outputs": [
    {
     "data": {
      "text/html": [
       "<div>\n",
       "<style scoped>\n",
       "    .dataframe tbody tr th:only-of-type {\n",
       "        vertical-align: middle;\n",
       "    }\n",
       "\n",
       "    .dataframe tbody tr th {\n",
       "        vertical-align: top;\n",
       "    }\n",
       "\n",
       "    .dataframe thead th {\n",
       "        text-align: right;\n",
       "    }\n",
       "</style>\n",
       "<table border=\"1\" class=\"dataframe\">\n",
       "  <thead>\n",
       "    <tr style=\"text-align: right;\">\n",
       "      <th></th>\n",
       "      <th>Year</th>\n",
       "      <th>Stage</th>\n",
       "      <th>Stadium</th>\n",
       "      <th>City</th>\n",
       "      <th>Home Team Name</th>\n",
       "      <th>Home Team Goals</th>\n",
       "      <th>Away Team Goals</th>\n",
       "      <th>Away Team Name</th>\n",
       "      <th>Win conditions</th>\n",
       "      <th>Attendance</th>\n",
       "      <th>Half-time Home Goals</th>\n",
       "      <th>Half-time Away Goals</th>\n",
       "      <th>Referee</th>\n",
       "      <th>Assistant 1</th>\n",
       "      <th>Assistant 2</th>\n",
       "      <th>RoundID</th>\n",
       "      <th>MatchID</th>\n",
       "      <th>Home Team Initials</th>\n",
       "      <th>Away Team Initials</th>\n",
       "    </tr>\n",
       "    <tr>\n",
       "      <th>Datetime</th>\n",
       "      <th></th>\n",
       "      <th></th>\n",
       "      <th></th>\n",
       "      <th></th>\n",
       "      <th></th>\n",
       "      <th></th>\n",
       "      <th></th>\n",
       "      <th></th>\n",
       "      <th></th>\n",
       "      <th></th>\n",
       "      <th></th>\n",
       "      <th></th>\n",
       "      <th></th>\n",
       "      <th></th>\n",
       "      <th></th>\n",
       "      <th></th>\n",
       "      <th></th>\n",
       "      <th></th>\n",
       "      <th></th>\n",
       "    </tr>\n",
       "  </thead>\n",
       "  <tbody>\n",
       "    <tr>\n",
       "      <th>13 Jul 1930 - 15:00</th>\n",
       "      <td>False</td>\n",
       "      <td>False</td>\n",
       "      <td>False</td>\n",
       "      <td>False</td>\n",
       "      <td>False</td>\n",
       "      <td>False</td>\n",
       "      <td>False</td>\n",
       "      <td>False</td>\n",
       "      <td>False</td>\n",
       "      <td>False</td>\n",
       "      <td>False</td>\n",
       "      <td>False</td>\n",
       "      <td>False</td>\n",
       "      <td>False</td>\n",
       "      <td>False</td>\n",
       "      <td>False</td>\n",
       "      <td>False</td>\n",
       "      <td>False</td>\n",
       "      <td>False</td>\n",
       "    </tr>\n",
       "    <tr>\n",
       "      <th>13 Jul 1930 - 15:00</th>\n",
       "      <td>False</td>\n",
       "      <td>False</td>\n",
       "      <td>False</td>\n",
       "      <td>False</td>\n",
       "      <td>False</td>\n",
       "      <td>False</td>\n",
       "      <td>False</td>\n",
       "      <td>False</td>\n",
       "      <td>False</td>\n",
       "      <td>False</td>\n",
       "      <td>False</td>\n",
       "      <td>False</td>\n",
       "      <td>False</td>\n",
       "      <td>False</td>\n",
       "      <td>False</td>\n",
       "      <td>False</td>\n",
       "      <td>False</td>\n",
       "      <td>False</td>\n",
       "      <td>False</td>\n",
       "    </tr>\n",
       "    <tr>\n",
       "      <th>14 Jul 1930 - 12:45</th>\n",
       "      <td>False</td>\n",
       "      <td>False</td>\n",
       "      <td>False</td>\n",
       "      <td>False</td>\n",
       "      <td>False</td>\n",
       "      <td>False</td>\n",
       "      <td>False</td>\n",
       "      <td>False</td>\n",
       "      <td>False</td>\n",
       "      <td>False</td>\n",
       "      <td>False</td>\n",
       "      <td>False</td>\n",
       "      <td>False</td>\n",
       "      <td>False</td>\n",
       "      <td>False</td>\n",
       "      <td>False</td>\n",
       "      <td>False</td>\n",
       "      <td>False</td>\n",
       "      <td>False</td>\n",
       "    </tr>\n",
       "    <tr>\n",
       "      <th>14 Jul 1930 - 14:50</th>\n",
       "      <td>False</td>\n",
       "      <td>False</td>\n",
       "      <td>False</td>\n",
       "      <td>False</td>\n",
       "      <td>False</td>\n",
       "      <td>False</td>\n",
       "      <td>False</td>\n",
       "      <td>False</td>\n",
       "      <td>False</td>\n",
       "      <td>False</td>\n",
       "      <td>False</td>\n",
       "      <td>False</td>\n",
       "      <td>False</td>\n",
       "      <td>False</td>\n",
       "      <td>False</td>\n",
       "      <td>False</td>\n",
       "      <td>False</td>\n",
       "      <td>False</td>\n",
       "      <td>False</td>\n",
       "    </tr>\n",
       "    <tr>\n",
       "      <th>15 Jul 1930 - 16:00</th>\n",
       "      <td>False</td>\n",
       "      <td>False</td>\n",
       "      <td>False</td>\n",
       "      <td>False</td>\n",
       "      <td>False</td>\n",
       "      <td>False</td>\n",
       "      <td>False</td>\n",
       "      <td>False</td>\n",
       "      <td>False</td>\n",
       "      <td>False</td>\n",
       "      <td>False</td>\n",
       "      <td>False</td>\n",
       "      <td>False</td>\n",
       "      <td>False</td>\n",
       "      <td>False</td>\n",
       "      <td>False</td>\n",
       "      <td>False</td>\n",
       "      <td>False</td>\n",
       "      <td>False</td>\n",
       "    </tr>\n",
       "    <tr>\n",
       "      <th>...</th>\n",
       "      <td>...</td>\n",
       "      <td>...</td>\n",
       "      <td>...</td>\n",
       "      <td>...</td>\n",
       "      <td>...</td>\n",
       "      <td>...</td>\n",
       "      <td>...</td>\n",
       "      <td>...</td>\n",
       "      <td>...</td>\n",
       "      <td>...</td>\n",
       "      <td>...</td>\n",
       "      <td>...</td>\n",
       "      <td>...</td>\n",
       "      <td>...</td>\n",
       "      <td>...</td>\n",
       "      <td>...</td>\n",
       "      <td>...</td>\n",
       "      <td>...</td>\n",
       "      <td>...</td>\n",
       "    </tr>\n",
       "    <tr>\n",
       "      <th>NaN</th>\n",
       "      <td>True</td>\n",
       "      <td>True</td>\n",
       "      <td>True</td>\n",
       "      <td>True</td>\n",
       "      <td>True</td>\n",
       "      <td>True</td>\n",
       "      <td>True</td>\n",
       "      <td>True</td>\n",
       "      <td>True</td>\n",
       "      <td>True</td>\n",
       "      <td>True</td>\n",
       "      <td>True</td>\n",
       "      <td>True</td>\n",
       "      <td>True</td>\n",
       "      <td>True</td>\n",
       "      <td>True</td>\n",
       "      <td>True</td>\n",
       "      <td>True</td>\n",
       "      <td>True</td>\n",
       "    </tr>\n",
       "    <tr>\n",
       "      <th>NaN</th>\n",
       "      <td>True</td>\n",
       "      <td>True</td>\n",
       "      <td>True</td>\n",
       "      <td>True</td>\n",
       "      <td>True</td>\n",
       "      <td>True</td>\n",
       "      <td>True</td>\n",
       "      <td>True</td>\n",
       "      <td>True</td>\n",
       "      <td>True</td>\n",
       "      <td>True</td>\n",
       "      <td>True</td>\n",
       "      <td>True</td>\n",
       "      <td>True</td>\n",
       "      <td>True</td>\n",
       "      <td>True</td>\n",
       "      <td>True</td>\n",
       "      <td>True</td>\n",
       "      <td>True</td>\n",
       "    </tr>\n",
       "    <tr>\n",
       "      <th>NaN</th>\n",
       "      <td>True</td>\n",
       "      <td>True</td>\n",
       "      <td>True</td>\n",
       "      <td>True</td>\n",
       "      <td>True</td>\n",
       "      <td>True</td>\n",
       "      <td>True</td>\n",
       "      <td>True</td>\n",
       "      <td>True</td>\n",
       "      <td>True</td>\n",
       "      <td>True</td>\n",
       "      <td>True</td>\n",
       "      <td>True</td>\n",
       "      <td>True</td>\n",
       "      <td>True</td>\n",
       "      <td>True</td>\n",
       "      <td>True</td>\n",
       "      <td>True</td>\n",
       "      <td>True</td>\n",
       "    </tr>\n",
       "    <tr>\n",
       "      <th>NaN</th>\n",
       "      <td>True</td>\n",
       "      <td>True</td>\n",
       "      <td>True</td>\n",
       "      <td>True</td>\n",
       "      <td>True</td>\n",
       "      <td>True</td>\n",
       "      <td>True</td>\n",
       "      <td>True</td>\n",
       "      <td>True</td>\n",
       "      <td>True</td>\n",
       "      <td>True</td>\n",
       "      <td>True</td>\n",
       "      <td>True</td>\n",
       "      <td>True</td>\n",
       "      <td>True</td>\n",
       "      <td>True</td>\n",
       "      <td>True</td>\n",
       "      <td>True</td>\n",
       "      <td>True</td>\n",
       "    </tr>\n",
       "    <tr>\n",
       "      <th>NaN</th>\n",
       "      <td>True</td>\n",
       "      <td>True</td>\n",
       "      <td>True</td>\n",
       "      <td>True</td>\n",
       "      <td>True</td>\n",
       "      <td>True</td>\n",
       "      <td>True</td>\n",
       "      <td>True</td>\n",
       "      <td>True</td>\n",
       "      <td>True</td>\n",
       "      <td>True</td>\n",
       "      <td>True</td>\n",
       "      <td>True</td>\n",
       "      <td>True</td>\n",
       "      <td>True</td>\n",
       "      <td>True</td>\n",
       "      <td>True</td>\n",
       "      <td>True</td>\n",
       "      <td>True</td>\n",
       "    </tr>\n",
       "  </tbody>\n",
       "</table>\n",
       "<p>4572 rows × 19 columns</p>\n",
       "</div>"
      ],
      "text/plain": [
       "                       Year  Stage  Stadium   City  Home Team Name  \\\n",
       "Datetime                                                             \n",
       "13 Jul 1930 - 15:00   False  False    False  False           False   \n",
       "13 Jul 1930 - 15:00   False  False    False  False           False   \n",
       "14 Jul 1930 - 12:45   False  False    False  False           False   \n",
       "14 Jul 1930 - 14:50   False  False    False  False           False   \n",
       "15 Jul 1930 - 16:00   False  False    False  False           False   \n",
       "...                     ...    ...      ...    ...             ...   \n",
       "NaN                    True   True     True   True            True   \n",
       "NaN                    True   True     True   True            True   \n",
       "NaN                    True   True     True   True            True   \n",
       "NaN                    True   True     True   True            True   \n",
       "NaN                    True   True     True   True            True   \n",
       "\n",
       "                      Home Team Goals  Away Team Goals  Away Team Name  \\\n",
       "Datetime                                                                 \n",
       "13 Jul 1930 - 15:00             False            False           False   \n",
       "13 Jul 1930 - 15:00             False            False           False   \n",
       "14 Jul 1930 - 12:45             False            False           False   \n",
       "14 Jul 1930 - 14:50             False            False           False   \n",
       "15 Jul 1930 - 16:00             False            False           False   \n",
       "...                               ...              ...             ...   \n",
       "NaN                              True             True            True   \n",
       "NaN                              True             True            True   \n",
       "NaN                              True             True            True   \n",
       "NaN                              True             True            True   \n",
       "NaN                              True             True            True   \n",
       "\n",
       "                      Win conditions  Attendance  Half-time Home Goals  \\\n",
       "Datetime                                                                 \n",
       "13 Jul 1930 - 15:00            False       False                 False   \n",
       "13 Jul 1930 - 15:00            False       False                 False   \n",
       "14 Jul 1930 - 12:45            False       False                 False   \n",
       "14 Jul 1930 - 14:50            False       False                 False   \n",
       "15 Jul 1930 - 16:00            False       False                 False   \n",
       "...                              ...         ...                   ...   \n",
       "NaN                             True        True                  True   \n",
       "NaN                             True        True                  True   \n",
       "NaN                             True        True                  True   \n",
       "NaN                             True        True                  True   \n",
       "NaN                             True        True                  True   \n",
       "\n",
       "                      Half-time Away Goals  Referee  Assistant 1  Assistant 2  \\\n",
       "Datetime                                                                        \n",
       "13 Jul 1930 - 15:00                  False    False        False        False   \n",
       "13 Jul 1930 - 15:00                  False    False        False        False   \n",
       "14 Jul 1930 - 12:45                  False    False        False        False   \n",
       "14 Jul 1930 - 14:50                  False    False        False        False   \n",
       "15 Jul 1930 - 16:00                  False    False        False        False   \n",
       "...                                    ...      ...          ...          ...   \n",
       "NaN                                   True     True         True         True   \n",
       "NaN                                   True     True         True         True   \n",
       "NaN                                   True     True         True         True   \n",
       "NaN                                   True     True         True         True   \n",
       "NaN                                   True     True         True         True   \n",
       "\n",
       "                      RoundID  MatchID  Home Team Initials  Away Team Initials  \n",
       "Datetime                                                                        \n",
       "13 Jul 1930 - 15:00     False    False               False               False  \n",
       "13 Jul 1930 - 15:00     False    False               False               False  \n",
       "14 Jul 1930 - 12:45     False    False               False               False  \n",
       "14 Jul 1930 - 14:50     False    False               False               False  \n",
       "15 Jul 1930 - 16:00     False    False               False               False  \n",
       "...                       ...      ...                 ...                 ...  \n",
       "NaN                      True     True                True                True  \n",
       "NaN                      True     True                True                True  \n",
       "NaN                      True     True                True                True  \n",
       "NaN                      True     True                True                True  \n",
       "NaN                      True     True                True                True  \n",
       "\n",
       "[4572 rows x 19 columns]"
      ]
     },
     "execution_count": 21,
     "metadata": {},
     "output_type": "execute_result"
    }
   ],
   "source": [
    "#showing all null values Op op\n",
    "dataset.isnull()"
   ]
  },
  {
   "cell_type": "code",
   "execution_count": 22,
   "metadata": {
    "colab": {
     "base_uri": "https://localhost:8080/",
     "height": 603
    },
    "executionInfo": {
     "elapsed": 697,
     "status": "ok",
     "timestamp": 1692159616974,
     "user": {
      "displayName": "Anita Thengade",
      "userId": "00058614709673072476"
     },
     "user_tz": -330
    },
    "id": "Cg7zPel_OEVR",
    "outputId": "c39861d4-ef7b-4a49-d3a6-cf9574a62fb5"
   },
   "outputs": [
    {
     "data": {
      "text/html": [
       "<div>\n",
       "<style scoped>\n",
       "    .dataframe tbody tr th:only-of-type {\n",
       "        vertical-align: middle;\n",
       "    }\n",
       "\n",
       "    .dataframe tbody tr th {\n",
       "        vertical-align: top;\n",
       "    }\n",
       "\n",
       "    .dataframe thead th {\n",
       "        text-align: right;\n",
       "    }\n",
       "</style>\n",
       "<table border=\"1\" class=\"dataframe\">\n",
       "  <thead>\n",
       "    <tr style=\"text-align: right;\">\n",
       "      <th></th>\n",
       "      <th>Year</th>\n",
       "      <th>Stage</th>\n",
       "      <th>Stadium</th>\n",
       "      <th>City</th>\n",
       "      <th>Home Team Name</th>\n",
       "      <th>Home Team Goals</th>\n",
       "      <th>Away Team Goals</th>\n",
       "      <th>Away Team Name</th>\n",
       "      <th>Win conditions</th>\n",
       "      <th>Attendance</th>\n",
       "      <th>Half-time Home Goals</th>\n",
       "      <th>Half-time Away Goals</th>\n",
       "      <th>Referee</th>\n",
       "      <th>Assistant 1</th>\n",
       "      <th>Assistant 2</th>\n",
       "      <th>RoundID</th>\n",
       "      <th>MatchID</th>\n",
       "      <th>Home Team Initials</th>\n",
       "      <th>Away Team Initials</th>\n",
       "    </tr>\n",
       "    <tr>\n",
       "      <th>Datetime</th>\n",
       "      <th></th>\n",
       "      <th></th>\n",
       "      <th></th>\n",
       "      <th></th>\n",
       "      <th></th>\n",
       "      <th></th>\n",
       "      <th></th>\n",
       "      <th></th>\n",
       "      <th></th>\n",
       "      <th></th>\n",
       "      <th></th>\n",
       "      <th></th>\n",
       "      <th></th>\n",
       "      <th></th>\n",
       "      <th></th>\n",
       "      <th></th>\n",
       "      <th></th>\n",
       "      <th></th>\n",
       "      <th></th>\n",
       "    </tr>\n",
       "  </thead>\n",
       "  <tbody>\n",
       "    <tr>\n",
       "      <th>13 Jul 1930 - 15:00</th>\n",
       "      <td>True</td>\n",
       "      <td>True</td>\n",
       "      <td>True</td>\n",
       "      <td>True</td>\n",
       "      <td>True</td>\n",
       "      <td>True</td>\n",
       "      <td>True</td>\n",
       "      <td>True</td>\n",
       "      <td>True</td>\n",
       "      <td>True</td>\n",
       "      <td>True</td>\n",
       "      <td>True</td>\n",
       "      <td>True</td>\n",
       "      <td>True</td>\n",
       "      <td>True</td>\n",
       "      <td>True</td>\n",
       "      <td>True</td>\n",
       "      <td>True</td>\n",
       "      <td>True</td>\n",
       "    </tr>\n",
       "    <tr>\n",
       "      <th>13 Jul 1930 - 15:00</th>\n",
       "      <td>True</td>\n",
       "      <td>True</td>\n",
       "      <td>True</td>\n",
       "      <td>True</td>\n",
       "      <td>True</td>\n",
       "      <td>True</td>\n",
       "      <td>True</td>\n",
       "      <td>True</td>\n",
       "      <td>True</td>\n",
       "      <td>True</td>\n",
       "      <td>True</td>\n",
       "      <td>True</td>\n",
       "      <td>True</td>\n",
       "      <td>True</td>\n",
       "      <td>True</td>\n",
       "      <td>True</td>\n",
       "      <td>True</td>\n",
       "      <td>True</td>\n",
       "      <td>True</td>\n",
       "    </tr>\n",
       "    <tr>\n",
       "      <th>14 Jul 1930 - 12:45</th>\n",
       "      <td>True</td>\n",
       "      <td>True</td>\n",
       "      <td>True</td>\n",
       "      <td>True</td>\n",
       "      <td>True</td>\n",
       "      <td>True</td>\n",
       "      <td>True</td>\n",
       "      <td>True</td>\n",
       "      <td>True</td>\n",
       "      <td>True</td>\n",
       "      <td>True</td>\n",
       "      <td>True</td>\n",
       "      <td>True</td>\n",
       "      <td>True</td>\n",
       "      <td>True</td>\n",
       "      <td>True</td>\n",
       "      <td>True</td>\n",
       "      <td>True</td>\n",
       "      <td>True</td>\n",
       "    </tr>\n",
       "    <tr>\n",
       "      <th>14 Jul 1930 - 14:50</th>\n",
       "      <td>True</td>\n",
       "      <td>True</td>\n",
       "      <td>True</td>\n",
       "      <td>True</td>\n",
       "      <td>True</td>\n",
       "      <td>True</td>\n",
       "      <td>True</td>\n",
       "      <td>True</td>\n",
       "      <td>True</td>\n",
       "      <td>True</td>\n",
       "      <td>True</td>\n",
       "      <td>True</td>\n",
       "      <td>True</td>\n",
       "      <td>True</td>\n",
       "      <td>True</td>\n",
       "      <td>True</td>\n",
       "      <td>True</td>\n",
       "      <td>True</td>\n",
       "      <td>True</td>\n",
       "    </tr>\n",
       "    <tr>\n",
       "      <th>15 Jul 1930 - 16:00</th>\n",
       "      <td>True</td>\n",
       "      <td>True</td>\n",
       "      <td>True</td>\n",
       "      <td>True</td>\n",
       "      <td>True</td>\n",
       "      <td>True</td>\n",
       "      <td>True</td>\n",
       "      <td>True</td>\n",
       "      <td>True</td>\n",
       "      <td>True</td>\n",
       "      <td>True</td>\n",
       "      <td>True</td>\n",
       "      <td>True</td>\n",
       "      <td>True</td>\n",
       "      <td>True</td>\n",
       "      <td>True</td>\n",
       "      <td>True</td>\n",
       "      <td>True</td>\n",
       "      <td>True</td>\n",
       "    </tr>\n",
       "    <tr>\n",
       "      <th>...</th>\n",
       "      <td>...</td>\n",
       "      <td>...</td>\n",
       "      <td>...</td>\n",
       "      <td>...</td>\n",
       "      <td>...</td>\n",
       "      <td>...</td>\n",
       "      <td>...</td>\n",
       "      <td>...</td>\n",
       "      <td>...</td>\n",
       "      <td>...</td>\n",
       "      <td>...</td>\n",
       "      <td>...</td>\n",
       "      <td>...</td>\n",
       "      <td>...</td>\n",
       "      <td>...</td>\n",
       "      <td>...</td>\n",
       "      <td>...</td>\n",
       "      <td>...</td>\n",
       "      <td>...</td>\n",
       "    </tr>\n",
       "    <tr>\n",
       "      <th>NaN</th>\n",
       "      <td>False</td>\n",
       "      <td>False</td>\n",
       "      <td>False</td>\n",
       "      <td>False</td>\n",
       "      <td>False</td>\n",
       "      <td>False</td>\n",
       "      <td>False</td>\n",
       "      <td>False</td>\n",
       "      <td>False</td>\n",
       "      <td>False</td>\n",
       "      <td>False</td>\n",
       "      <td>False</td>\n",
       "      <td>False</td>\n",
       "      <td>False</td>\n",
       "      <td>False</td>\n",
       "      <td>False</td>\n",
       "      <td>False</td>\n",
       "      <td>False</td>\n",
       "      <td>False</td>\n",
       "    </tr>\n",
       "    <tr>\n",
       "      <th>NaN</th>\n",
       "      <td>False</td>\n",
       "      <td>False</td>\n",
       "      <td>False</td>\n",
       "      <td>False</td>\n",
       "      <td>False</td>\n",
       "      <td>False</td>\n",
       "      <td>False</td>\n",
       "      <td>False</td>\n",
       "      <td>False</td>\n",
       "      <td>False</td>\n",
       "      <td>False</td>\n",
       "      <td>False</td>\n",
       "      <td>False</td>\n",
       "      <td>False</td>\n",
       "      <td>False</td>\n",
       "      <td>False</td>\n",
       "      <td>False</td>\n",
       "      <td>False</td>\n",
       "      <td>False</td>\n",
       "    </tr>\n",
       "    <tr>\n",
       "      <th>NaN</th>\n",
       "      <td>False</td>\n",
       "      <td>False</td>\n",
       "      <td>False</td>\n",
       "      <td>False</td>\n",
       "      <td>False</td>\n",
       "      <td>False</td>\n",
       "      <td>False</td>\n",
       "      <td>False</td>\n",
       "      <td>False</td>\n",
       "      <td>False</td>\n",
       "      <td>False</td>\n",
       "      <td>False</td>\n",
       "      <td>False</td>\n",
       "      <td>False</td>\n",
       "      <td>False</td>\n",
       "      <td>False</td>\n",
       "      <td>False</td>\n",
       "      <td>False</td>\n",
       "      <td>False</td>\n",
       "    </tr>\n",
       "    <tr>\n",
       "      <th>NaN</th>\n",
       "      <td>False</td>\n",
       "      <td>False</td>\n",
       "      <td>False</td>\n",
       "      <td>False</td>\n",
       "      <td>False</td>\n",
       "      <td>False</td>\n",
       "      <td>False</td>\n",
       "      <td>False</td>\n",
       "      <td>False</td>\n",
       "      <td>False</td>\n",
       "      <td>False</td>\n",
       "      <td>False</td>\n",
       "      <td>False</td>\n",
       "      <td>False</td>\n",
       "      <td>False</td>\n",
       "      <td>False</td>\n",
       "      <td>False</td>\n",
       "      <td>False</td>\n",
       "      <td>False</td>\n",
       "    </tr>\n",
       "    <tr>\n",
       "      <th>NaN</th>\n",
       "      <td>False</td>\n",
       "      <td>False</td>\n",
       "      <td>False</td>\n",
       "      <td>False</td>\n",
       "      <td>False</td>\n",
       "      <td>False</td>\n",
       "      <td>False</td>\n",
       "      <td>False</td>\n",
       "      <td>False</td>\n",
       "      <td>False</td>\n",
       "      <td>False</td>\n",
       "      <td>False</td>\n",
       "      <td>False</td>\n",
       "      <td>False</td>\n",
       "      <td>False</td>\n",
       "      <td>False</td>\n",
       "      <td>False</td>\n",
       "      <td>False</td>\n",
       "      <td>False</td>\n",
       "    </tr>\n",
       "  </tbody>\n",
       "</table>\n",
       "<p>4572 rows × 19 columns</p>\n",
       "</div>"
      ],
      "text/plain": [
       "                       Year  Stage  Stadium   City  Home Team Name  \\\n",
       "Datetime                                                             \n",
       "13 Jul 1930 - 15:00    True   True     True   True            True   \n",
       "13 Jul 1930 - 15:00    True   True     True   True            True   \n",
       "14 Jul 1930 - 12:45    True   True     True   True            True   \n",
       "14 Jul 1930 - 14:50    True   True     True   True            True   \n",
       "15 Jul 1930 - 16:00    True   True     True   True            True   \n",
       "...                     ...    ...      ...    ...             ...   \n",
       "NaN                   False  False    False  False           False   \n",
       "NaN                   False  False    False  False           False   \n",
       "NaN                   False  False    False  False           False   \n",
       "NaN                   False  False    False  False           False   \n",
       "NaN                   False  False    False  False           False   \n",
       "\n",
       "                      Home Team Goals  Away Team Goals  Away Team Name  \\\n",
       "Datetime                                                                 \n",
       "13 Jul 1930 - 15:00              True             True            True   \n",
       "13 Jul 1930 - 15:00              True             True            True   \n",
       "14 Jul 1930 - 12:45              True             True            True   \n",
       "14 Jul 1930 - 14:50              True             True            True   \n",
       "15 Jul 1930 - 16:00              True             True            True   \n",
       "...                               ...              ...             ...   \n",
       "NaN                             False            False           False   \n",
       "NaN                             False            False           False   \n",
       "NaN                             False            False           False   \n",
       "NaN                             False            False           False   \n",
       "NaN                             False            False           False   \n",
       "\n",
       "                      Win conditions  Attendance  Half-time Home Goals  \\\n",
       "Datetime                                                                 \n",
       "13 Jul 1930 - 15:00             True        True                  True   \n",
       "13 Jul 1930 - 15:00             True        True                  True   \n",
       "14 Jul 1930 - 12:45             True        True                  True   \n",
       "14 Jul 1930 - 14:50             True        True                  True   \n",
       "15 Jul 1930 - 16:00             True        True                  True   \n",
       "...                              ...         ...                   ...   \n",
       "NaN                            False       False                 False   \n",
       "NaN                            False       False                 False   \n",
       "NaN                            False       False                 False   \n",
       "NaN                            False       False                 False   \n",
       "NaN                            False       False                 False   \n",
       "\n",
       "                      Half-time Away Goals  Referee  Assistant 1  Assistant 2  \\\n",
       "Datetime                                                                        \n",
       "13 Jul 1930 - 15:00                   True     True         True         True   \n",
       "13 Jul 1930 - 15:00                   True     True         True         True   \n",
       "14 Jul 1930 - 12:45                   True     True         True         True   \n",
       "14 Jul 1930 - 14:50                   True     True         True         True   \n",
       "15 Jul 1930 - 16:00                   True     True         True         True   \n",
       "...                                    ...      ...          ...          ...   \n",
       "NaN                                  False    False        False        False   \n",
       "NaN                                  False    False        False        False   \n",
       "NaN                                  False    False        False        False   \n",
       "NaN                                  False    False        False        False   \n",
       "NaN                                  False    False        False        False   \n",
       "\n",
       "                      RoundID  MatchID  Home Team Initials  Away Team Initials  \n",
       "Datetime                                                                        \n",
       "13 Jul 1930 - 15:00      True     True                True                True  \n",
       "13 Jul 1930 - 15:00      True     True                True                True  \n",
       "14 Jul 1930 - 12:45      True     True                True                True  \n",
       "14 Jul 1930 - 14:50      True     True                True                True  \n",
       "15 Jul 1930 - 16:00      True     True                True                True  \n",
       "...                       ...      ...                 ...                 ...  \n",
       "NaN                     False    False               False               False  \n",
       "NaN                     False    False               False               False  \n",
       "NaN                     False    False               False               False  \n",
       "NaN                     False    False               False               False  \n",
       "NaN                     False    False               False               False  \n",
       "\n",
       "[4572 rows x 19 columns]"
      ]
     },
     "execution_count": 22,
     "metadata": {},
     "output_type": "execute_result"
    }
   ],
   "source": [
    "dataset.notnull()"
   ]
  },
  {
   "cell_type": "code",
   "execution_count": 23,
   "metadata": {
    "colab": {
     "base_uri": "https://localhost:8080/"
    },
    "id": "N1qdNy8AOEVT",
    "outputId": "42915441-ce47-4d11-d70b-2b33963a2f02"
   },
   "outputs": [
    {
     "data": {
      "text/plain": [
       "Year                    3720\n",
       "Stage                   3720\n",
       "Stadium                 3720\n",
       "City                    3720\n",
       "Home Team Name          3720\n",
       "Home Team Goals         3720\n",
       "Away Team Goals         3720\n",
       "Away Team Name          3720\n",
       "Win conditions          3720\n",
       "Attendance              3722\n",
       "Half-time Home Goals    3720\n",
       "Half-time Away Goals    3720\n",
       "Referee                 3720\n",
       "Assistant 1             3720\n",
       "Assistant 2             3720\n",
       "RoundID                 3720\n",
       "MatchID                 3720\n",
       "Home Team Initials      3720\n",
       "Away Team Initials      3720\n",
       "dtype: int64"
      ]
     },
     "execution_count": 23,
     "metadata": {},
     "output_type": "execute_result"
    }
   ],
   "source": [
    "dataset.isnull().sum()"
   ]
  },
  {
   "cell_type": "code",
   "execution_count": 24,
   "metadata": {
    "colab": {
     "base_uri": "https://localhost:8080/"
    },
    "executionInfo": {
     "elapsed": 395,
     "status": "ok",
     "timestamp": 1692159797054,
     "user": {
      "displayName": "Anita Thengade",
      "userId": "00058614709673072476"
     },
     "user_tz": -330
    },
    "id": "rMjbLHJlk4SW",
    "outputId": "72b0205a-d116-4ed3-e4f4-825027df1242"
   },
   "outputs": [
    {
     "data": {
      "text/plain": [
       "(4572, 19)"
      ]
     },
     "execution_count": 24,
     "metadata": {},
     "output_type": "execute_result"
    }
   ],
   "source": [
    "dataset.shape"
   ]
  },
  {
   "cell_type": "code",
   "execution_count": 25,
   "metadata": {
    "colab": {
     "base_uri": "https://localhost:8080/"
    },
    "id": "mxV8h53LOEVU",
    "outputId": "2039dd24-3ed3-4a21-815e-50ec13467884"
   },
   "outputs": [
    {
     "name": "stdout",
     "output_type": "stream",
     "text": [
      "Datetime\n",
      "13 Jul 1930 - 15:00     False\n",
      "13 Jul 1930 - 15:00     False\n",
      "14 Jul 1930 - 12:45     False\n",
      "14 Jul 1930 - 14:50     False\n",
      "15 Jul 1930 - 16:00     False\n",
      "                        ...  \n",
      "NaN                      True\n",
      "NaN                      True\n",
      "NaN                      True\n",
      "NaN                      True\n",
      "NaN                      True\n",
      "Name: Attendance, Length: 4572, dtype: bool\n"
     ]
    }
   ],
   "source": [
    "print(dataset['Attendance'].isnull())"
   ]
  },
  {
   "cell_type": "code",
   "execution_count": 26,
   "metadata": {
    "colab": {
     "base_uri": "https://localhost:8080/",
     "height": 691
    },
    "id": "eLYLtHqdOEVV",
    "outputId": "a292a31e-a515-4f12-d14d-a4683c2f7b9b"
   },
   "outputs": [
    {
     "data": {
      "text/html": [
       "<div>\n",
       "<style scoped>\n",
       "    .dataframe tbody tr th:only-of-type {\n",
       "        vertical-align: middle;\n",
       "    }\n",
       "\n",
       "    .dataframe tbody tr th {\n",
       "        vertical-align: top;\n",
       "    }\n",
       "\n",
       "    .dataframe thead th {\n",
       "        text-align: right;\n",
       "    }\n",
       "</style>\n",
       "<table border=\"1\" class=\"dataframe\">\n",
       "  <thead>\n",
       "    <tr style=\"text-align: right;\">\n",
       "      <th></th>\n",
       "      <th>Year</th>\n",
       "      <th>Stage</th>\n",
       "      <th>Stadium</th>\n",
       "      <th>City</th>\n",
       "      <th>Home Team Name</th>\n",
       "      <th>Home Team Goals</th>\n",
       "      <th>Away Team Goals</th>\n",
       "      <th>Away Team Name</th>\n",
       "      <th>Win conditions</th>\n",
       "      <th>Attendance</th>\n",
       "      <th>Half-time Home Goals</th>\n",
       "      <th>Half-time Away Goals</th>\n",
       "      <th>Referee</th>\n",
       "      <th>Assistant 1</th>\n",
       "      <th>Assistant 2</th>\n",
       "      <th>RoundID</th>\n",
       "      <th>MatchID</th>\n",
       "      <th>Home Team Initials</th>\n",
       "      <th>Away Team Initials</th>\n",
       "    </tr>\n",
       "    <tr>\n",
       "      <th>Datetime</th>\n",
       "      <th></th>\n",
       "      <th></th>\n",
       "      <th></th>\n",
       "      <th></th>\n",
       "      <th></th>\n",
       "      <th></th>\n",
       "      <th></th>\n",
       "      <th></th>\n",
       "      <th></th>\n",
       "      <th></th>\n",
       "      <th></th>\n",
       "      <th></th>\n",
       "      <th></th>\n",
       "      <th></th>\n",
       "      <th></th>\n",
       "      <th></th>\n",
       "      <th></th>\n",
       "      <th></th>\n",
       "      <th></th>\n",
       "    </tr>\n",
       "  </thead>\n",
       "  <tbody>\n",
       "    <tr>\n",
       "      <th>13 Jul 1930 - 15:00</th>\n",
       "      <td>1930.0</td>\n",
       "      <td>Group 1</td>\n",
       "      <td>Pocitos</td>\n",
       "      <td>Montevideo</td>\n",
       "      <td>France</td>\n",
       "      <td>4.0</td>\n",
       "      <td>1.0</td>\n",
       "      <td>Mexico</td>\n",
       "      <td></td>\n",
       "      <td>4444.0</td>\n",
       "      <td>3.0</td>\n",
       "      <td>0.0</td>\n",
       "      <td>LOMBARDI Domingo (URU)</td>\n",
       "      <td>CRISTOPHE Henry (BEL)</td>\n",
       "      <td>REGO Gilberto (BRA)</td>\n",
       "      <td>201.0</td>\n",
       "      <td>1096.0</td>\n",
       "      <td>FRA</td>\n",
       "      <td>MEX</td>\n",
       "    </tr>\n",
       "    <tr>\n",
       "      <th>13 Jul 1930 - 15:00</th>\n",
       "      <td>1930.0</td>\n",
       "      <td>Group 4</td>\n",
       "      <td>Parque Central</td>\n",
       "      <td>Montevideo</td>\n",
       "      <td>USA</td>\n",
       "      <td>3.0</td>\n",
       "      <td>0.0</td>\n",
       "      <td>Belgium</td>\n",
       "      <td></td>\n",
       "      <td>18346.0</td>\n",
       "      <td>2.0</td>\n",
       "      <td>0.0</td>\n",
       "      <td>MACIAS Jose (ARG)</td>\n",
       "      <td>MATEUCCI Francisco (URU)</td>\n",
       "      <td>WARNKEN Alberto (CHI)</td>\n",
       "      <td>201.0</td>\n",
       "      <td>1090.0</td>\n",
       "      <td>USA</td>\n",
       "      <td>BEL</td>\n",
       "    </tr>\n",
       "    <tr>\n",
       "      <th>14 Jul 1930 - 12:45</th>\n",
       "      <td>1930.0</td>\n",
       "      <td>Group 2</td>\n",
       "      <td>Parque Central</td>\n",
       "      <td>Montevideo</td>\n",
       "      <td>Yugoslavia</td>\n",
       "      <td>2.0</td>\n",
       "      <td>1.0</td>\n",
       "      <td>Brazil</td>\n",
       "      <td></td>\n",
       "      <td>24059.0</td>\n",
       "      <td>2.0</td>\n",
       "      <td>0.0</td>\n",
       "      <td>TEJADA Anibal (URU)</td>\n",
       "      <td>VALLARINO Ricardo (URU)</td>\n",
       "      <td>BALWAY Thomas (FRA)</td>\n",
       "      <td>201.0</td>\n",
       "      <td>1093.0</td>\n",
       "      <td>YUG</td>\n",
       "      <td>BRA</td>\n",
       "    </tr>\n",
       "    <tr>\n",
       "      <th>14 Jul 1930 - 14:50</th>\n",
       "      <td>1930.0</td>\n",
       "      <td>Group 3</td>\n",
       "      <td>Pocitos</td>\n",
       "      <td>Montevideo</td>\n",
       "      <td>Romania</td>\n",
       "      <td>3.0</td>\n",
       "      <td>1.0</td>\n",
       "      <td>Peru</td>\n",
       "      <td></td>\n",
       "      <td>2549.0</td>\n",
       "      <td>1.0</td>\n",
       "      <td>0.0</td>\n",
       "      <td>WARNKEN Alberto (CHI)</td>\n",
       "      <td>LANGENUS Jean (BEL)</td>\n",
       "      <td>MATEUCCI Francisco (URU)</td>\n",
       "      <td>201.0</td>\n",
       "      <td>1098.0</td>\n",
       "      <td>ROU</td>\n",
       "      <td>PER</td>\n",
       "    </tr>\n",
       "    <tr>\n",
       "      <th>15 Jul 1930 - 16:00</th>\n",
       "      <td>1930.0</td>\n",
       "      <td>Group 1</td>\n",
       "      <td>Parque Central</td>\n",
       "      <td>Montevideo</td>\n",
       "      <td>Argentina</td>\n",
       "      <td>1.0</td>\n",
       "      <td>0.0</td>\n",
       "      <td>France</td>\n",
       "      <td></td>\n",
       "      <td>23409.0</td>\n",
       "      <td>0.0</td>\n",
       "      <td>0.0</td>\n",
       "      <td>REGO Gilberto (BRA)</td>\n",
       "      <td>SAUCEDO Ulises (BOL)</td>\n",
       "      <td>RADULESCU Constantin (ROU)</td>\n",
       "      <td>201.0</td>\n",
       "      <td>1085.0</td>\n",
       "      <td>ARG</td>\n",
       "      <td>FRA</td>\n",
       "    </tr>\n",
       "    <tr>\n",
       "      <th>...</th>\n",
       "      <td>...</td>\n",
       "      <td>...</td>\n",
       "      <td>...</td>\n",
       "      <td>...</td>\n",
       "      <td>...</td>\n",
       "      <td>...</td>\n",
       "      <td>...</td>\n",
       "      <td>...</td>\n",
       "      <td>...</td>\n",
       "      <td>...</td>\n",
       "      <td>...</td>\n",
       "      <td>...</td>\n",
       "      <td>...</td>\n",
       "      <td>...</td>\n",
       "      <td>...</td>\n",
       "      <td>...</td>\n",
       "      <td>...</td>\n",
       "      <td>...</td>\n",
       "      <td>...</td>\n",
       "    </tr>\n",
       "    <tr>\n",
       "      <th>NaN</th>\n",
       "      <td>0.0</td>\n",
       "      <td>0</td>\n",
       "      <td>0</td>\n",
       "      <td>0</td>\n",
       "      <td>0</td>\n",
       "      <td>0.0</td>\n",
       "      <td>0.0</td>\n",
       "      <td>0</td>\n",
       "      <td>0</td>\n",
       "      <td>0.0</td>\n",
       "      <td>0.0</td>\n",
       "      <td>0.0</td>\n",
       "      <td>0</td>\n",
       "      <td>0</td>\n",
       "      <td>0</td>\n",
       "      <td>0.0</td>\n",
       "      <td>0.0</td>\n",
       "      <td>0</td>\n",
       "      <td>0</td>\n",
       "    </tr>\n",
       "    <tr>\n",
       "      <th>NaN</th>\n",
       "      <td>0.0</td>\n",
       "      <td>0</td>\n",
       "      <td>0</td>\n",
       "      <td>0</td>\n",
       "      <td>0</td>\n",
       "      <td>0.0</td>\n",
       "      <td>0.0</td>\n",
       "      <td>0</td>\n",
       "      <td>0</td>\n",
       "      <td>0.0</td>\n",
       "      <td>0.0</td>\n",
       "      <td>0.0</td>\n",
       "      <td>0</td>\n",
       "      <td>0</td>\n",
       "      <td>0</td>\n",
       "      <td>0.0</td>\n",
       "      <td>0.0</td>\n",
       "      <td>0</td>\n",
       "      <td>0</td>\n",
       "    </tr>\n",
       "    <tr>\n",
       "      <th>NaN</th>\n",
       "      <td>0.0</td>\n",
       "      <td>0</td>\n",
       "      <td>0</td>\n",
       "      <td>0</td>\n",
       "      <td>0</td>\n",
       "      <td>0.0</td>\n",
       "      <td>0.0</td>\n",
       "      <td>0</td>\n",
       "      <td>0</td>\n",
       "      <td>0.0</td>\n",
       "      <td>0.0</td>\n",
       "      <td>0.0</td>\n",
       "      <td>0</td>\n",
       "      <td>0</td>\n",
       "      <td>0</td>\n",
       "      <td>0.0</td>\n",
       "      <td>0.0</td>\n",
       "      <td>0</td>\n",
       "      <td>0</td>\n",
       "    </tr>\n",
       "    <tr>\n",
       "      <th>NaN</th>\n",
       "      <td>0.0</td>\n",
       "      <td>0</td>\n",
       "      <td>0</td>\n",
       "      <td>0</td>\n",
       "      <td>0</td>\n",
       "      <td>0.0</td>\n",
       "      <td>0.0</td>\n",
       "      <td>0</td>\n",
       "      <td>0</td>\n",
       "      <td>0.0</td>\n",
       "      <td>0.0</td>\n",
       "      <td>0.0</td>\n",
       "      <td>0</td>\n",
       "      <td>0</td>\n",
       "      <td>0</td>\n",
       "      <td>0.0</td>\n",
       "      <td>0.0</td>\n",
       "      <td>0</td>\n",
       "      <td>0</td>\n",
       "    </tr>\n",
       "    <tr>\n",
       "      <th>NaN</th>\n",
       "      <td>0.0</td>\n",
       "      <td>0</td>\n",
       "      <td>0</td>\n",
       "      <td>0</td>\n",
       "      <td>0</td>\n",
       "      <td>0.0</td>\n",
       "      <td>0.0</td>\n",
       "      <td>0</td>\n",
       "      <td>0</td>\n",
       "      <td>0.0</td>\n",
       "      <td>0.0</td>\n",
       "      <td>0.0</td>\n",
       "      <td>0</td>\n",
       "      <td>0</td>\n",
       "      <td>0</td>\n",
       "      <td>0.0</td>\n",
       "      <td>0.0</td>\n",
       "      <td>0</td>\n",
       "      <td>0</td>\n",
       "    </tr>\n",
       "  </tbody>\n",
       "</table>\n",
       "<p>4572 rows × 19 columns</p>\n",
       "</div>"
      ],
      "text/plain": [
       "                        Year    Stage         Stadium         City  \\\n",
       "Datetime                                                             \n",
       "13 Jul 1930 - 15:00   1930.0  Group 1         Pocitos  Montevideo    \n",
       "13 Jul 1930 - 15:00   1930.0  Group 4  Parque Central  Montevideo    \n",
       "14 Jul 1930 - 12:45   1930.0  Group 2  Parque Central  Montevideo    \n",
       "14 Jul 1930 - 14:50   1930.0  Group 3         Pocitos  Montevideo    \n",
       "15 Jul 1930 - 16:00   1930.0  Group 1  Parque Central  Montevideo    \n",
       "...                      ...      ...             ...          ...   \n",
       "NaN                      0.0        0               0            0   \n",
       "NaN                      0.0        0               0            0   \n",
       "NaN                      0.0        0               0            0   \n",
       "NaN                      0.0        0               0            0   \n",
       "NaN                      0.0        0               0            0   \n",
       "\n",
       "                     Home Team Name  Home Team Goals  Away Team Goals  \\\n",
       "Datetime                                                                \n",
       "13 Jul 1930 - 15:00          France              4.0              1.0   \n",
       "13 Jul 1930 - 15:00             USA              3.0              0.0   \n",
       "14 Jul 1930 - 12:45      Yugoslavia              2.0              1.0   \n",
       "14 Jul 1930 - 14:50         Romania              3.0              1.0   \n",
       "15 Jul 1930 - 16:00       Argentina              1.0              0.0   \n",
       "...                             ...              ...              ...   \n",
       "NaN                               0              0.0              0.0   \n",
       "NaN                               0              0.0              0.0   \n",
       "NaN                               0              0.0              0.0   \n",
       "NaN                               0              0.0              0.0   \n",
       "NaN                               0              0.0              0.0   \n",
       "\n",
       "                     Away Team Name Win conditions  Attendance  \\\n",
       "Datetime                                                         \n",
       "13 Jul 1930 - 15:00          Mexico                     4444.0   \n",
       "13 Jul 1930 - 15:00         Belgium                    18346.0   \n",
       "14 Jul 1930 - 12:45          Brazil                    24059.0   \n",
       "14 Jul 1930 - 14:50            Peru                     2549.0   \n",
       "15 Jul 1930 - 16:00          France                    23409.0   \n",
       "...                             ...            ...         ...   \n",
       "NaN                               0              0         0.0   \n",
       "NaN                               0              0         0.0   \n",
       "NaN                               0              0         0.0   \n",
       "NaN                               0              0         0.0   \n",
       "NaN                               0              0         0.0   \n",
       "\n",
       "                      Half-time Home Goals  Half-time Away Goals  \\\n",
       "Datetime                                                           \n",
       "13 Jul 1930 - 15:00                    3.0                   0.0   \n",
       "13 Jul 1930 - 15:00                    2.0                   0.0   \n",
       "14 Jul 1930 - 12:45                    2.0                   0.0   \n",
       "14 Jul 1930 - 14:50                    1.0                   0.0   \n",
       "15 Jul 1930 - 16:00                    0.0                   0.0   \n",
       "...                                    ...                   ...   \n",
       "NaN                                    0.0                   0.0   \n",
       "NaN                                    0.0                   0.0   \n",
       "NaN                                    0.0                   0.0   \n",
       "NaN                                    0.0                   0.0   \n",
       "NaN                                    0.0                   0.0   \n",
       "\n",
       "                                     Referee               Assistant 1  \\\n",
       "Datetime                                                                 \n",
       "13 Jul 1930 - 15:00   LOMBARDI Domingo (URU)     CRISTOPHE Henry (BEL)   \n",
       "13 Jul 1930 - 15:00        MACIAS Jose (ARG)  MATEUCCI Francisco (URU)   \n",
       "14 Jul 1930 - 12:45      TEJADA Anibal (URU)   VALLARINO Ricardo (URU)   \n",
       "14 Jul 1930 - 14:50    WARNKEN Alberto (CHI)       LANGENUS Jean (BEL)   \n",
       "15 Jul 1930 - 16:00      REGO Gilberto (BRA)      SAUCEDO Ulises (BOL)   \n",
       "...                                      ...                       ...   \n",
       "NaN                                        0                         0   \n",
       "NaN                                        0                         0   \n",
       "NaN                                        0                         0   \n",
       "NaN                                        0                         0   \n",
       "NaN                                        0                         0   \n",
       "\n",
       "                                     Assistant 2  RoundID  MatchID  \\\n",
       "Datetime                                                             \n",
       "13 Jul 1930 - 15:00          REGO Gilberto (BRA)    201.0   1096.0   \n",
       "13 Jul 1930 - 15:00        WARNKEN Alberto (CHI)    201.0   1090.0   \n",
       "14 Jul 1930 - 12:45          BALWAY Thomas (FRA)    201.0   1093.0   \n",
       "14 Jul 1930 - 14:50     MATEUCCI Francisco (URU)    201.0   1098.0   \n",
       "15 Jul 1930 - 16:00   RADULESCU Constantin (ROU)    201.0   1085.0   \n",
       "...                                          ...      ...      ...   \n",
       "NaN                                            0      0.0      0.0   \n",
       "NaN                                            0      0.0      0.0   \n",
       "NaN                                            0      0.0      0.0   \n",
       "NaN                                            0      0.0      0.0   \n",
       "NaN                                            0      0.0      0.0   \n",
       "\n",
       "                     Home Team Initials Away Team Initials  \n",
       "Datetime                                                    \n",
       "13 Jul 1930 - 15:00                 FRA                MEX  \n",
       "13 Jul 1930 - 15:00                 USA                BEL  \n",
       "14 Jul 1930 - 12:45                 YUG                BRA  \n",
       "14 Jul 1930 - 14:50                 ROU                PER  \n",
       "15 Jul 1930 - 16:00                 ARG                FRA  \n",
       "...                                 ...                ...  \n",
       "NaN                                   0                  0  \n",
       "NaN                                   0                  0  \n",
       "NaN                                   0                  0  \n",
       "NaN                                   0                  0  \n",
       "NaN                                   0                  0  \n",
       "\n",
       "[4572 rows x 19 columns]"
      ]
     },
     "execution_count": 26,
     "metadata": {},
     "output_type": "execute_result"
    }
   ],
   "source": [
    "# filling missing value using fillna()\n",
    "dataset.fillna(0)"
   ]
  },
  {
   "cell_type": "code",
   "execution_count": 27,
   "metadata": {
    "colab": {
     "base_uri": "https://localhost:8080/"
    },
    "executionInfo": {
     "elapsed": 394,
     "status": "ok",
     "timestamp": 1692159788674,
     "user": {
      "displayName": "Anita Thengade",
      "userId": "00058614709673072476"
     },
     "user_tz": -330
    },
    "id": "6pKY5RaFOEVW",
    "outputId": "f09a8372-1d25-47c7-a1c7-73cf3e801563"
   },
   "outputs": [
    {
     "data": {
      "text/plain": [
       "(850, 19)"
      ]
     },
     "execution_count": 27,
     "metadata": {},
     "output_type": "execute_result"
    }
   ],
   "source": [
    "# drop rows with missing values\n",
    "dataset.dropna(inplace=True)\n",
    "dataset.shape"
   ]
  },
  {
   "cell_type": "code",
   "execution_count": 31,
   "metadata": {
    "colab": {
     "base_uri": "https://localhost:8080/"
    },
    "executionInfo": {
     "elapsed": 693,
     "status": "ok",
     "timestamp": 1692167433517,
     "user": {
      "displayName": "Anita Thengade",
      "userId": "00058614709673072476"
     },
     "user_tz": -330
    },
    "id": "vo1rauIVCMav",
    "outputId": "b051223c-ffeb-43c2-c5a7-589302ab9313"
   },
   "outputs": [
    {
     "name": "stdout",
     "output_type": "stream",
     "text": [
      "Original Data : \n",
      " [[12, nan, 34], [10, 32, nan], [nan, 11, 20]]\n",
      "Imputed Data : \n",
      " [[12.  21.5 34. ]\n",
      " [10.  32.  27. ]\n",
      " [11.  11.  20. ]]\n"
     ]
    }
   ],
   "source": [
    "from sklearn.impute import SimpleImputer\n",
    "\n",
    "data = [[12, np.nan, 34], [10, 32, np.nan],\n",
    "        [np.nan, 11, 20]]\n",
    "\n",
    "imputer = SimpleImputer(missing_values = np.nan,\n",
    "                        strategy ='mean')\n",
    "\n",
    "print(\"Original Data : \\n\", data)\n",
    "# Fitting the data to the imputer object\n",
    "imputer = imputer.fit(data)\n",
    "\n",
    "# Imputing the data\n",
    "data = imputer.transform(data)\n",
    "\n",
    "print(\"Imputed Data : \\n\", data)"
   ]
  },
  {
   "cell_type": "code",
   "execution_count": 32,
   "metadata": {
    "colab": {
     "base_uri": "https://localhost:8080/",
     "height": 300
    },
    "executionInfo": {
     "elapsed": 877,
     "status": "ok",
     "timestamp": 1692167649512,
     "user": {
      "displayName": "Anita Thengade",
      "userId": "00058614709673072476"
     },
     "user_tz": -330
    },
    "id": "p27PoFiMOEVa",
    "outputId": "aac2f284-c74a-4c23-c839-407ca48300ae"
   },
   "outputs": [
    {
     "data": {
      "text/html": [
       "<div>\n",
       "<style scoped>\n",
       "    .dataframe tbody tr th:only-of-type {\n",
       "        vertical-align: middle;\n",
       "    }\n",
       "\n",
       "    .dataframe tbody tr th {\n",
       "        vertical-align: top;\n",
       "    }\n",
       "\n",
       "    .dataframe thead th {\n",
       "        text-align: right;\n",
       "    }\n",
       "</style>\n",
       "<table border=\"1\" class=\"dataframe\">\n",
       "  <thead>\n",
       "    <tr style=\"text-align: right;\">\n",
       "      <th></th>\n",
       "      <th>marks</th>\n",
       "      <th>gender</th>\n",
       "      <th>result</th>\n",
       "    </tr>\n",
       "  </thead>\n",
       "  <tbody>\n",
       "    <tr>\n",
       "      <th>0</th>\n",
       "      <td>85.0</td>\n",
       "      <td>M</td>\n",
       "      <td>verygood</td>\n",
       "    </tr>\n",
       "    <tr>\n",
       "      <th>1</th>\n",
       "      <td>95.0</td>\n",
       "      <td>F</td>\n",
       "      <td>excellent</td>\n",
       "    </tr>\n",
       "    <tr>\n",
       "      <th>2</th>\n",
       "      <td>75.0</td>\n",
       "      <td>None</td>\n",
       "      <td>good</td>\n",
       "    </tr>\n",
       "    <tr>\n",
       "      <th>3</th>\n",
       "      <td>NaN</td>\n",
       "      <td>M</td>\n",
       "      <td>average</td>\n",
       "    </tr>\n",
       "    <tr>\n",
       "      <th>4</th>\n",
       "      <td>70.0</td>\n",
       "      <td>M</td>\n",
       "      <td>good</td>\n",
       "    </tr>\n",
       "    <tr>\n",
       "      <th>5</th>\n",
       "      <td>NaN</td>\n",
       "      <td>None</td>\n",
       "      <td>verygood</td>\n",
       "    </tr>\n",
       "    <tr>\n",
       "      <th>6</th>\n",
       "      <td>92.0</td>\n",
       "      <td>F</td>\n",
       "      <td>verygood</td>\n",
       "    </tr>\n",
       "    <tr>\n",
       "      <th>7</th>\n",
       "      <td>98.0</td>\n",
       "      <td>M</td>\n",
       "      <td>excellent</td>\n",
       "    </tr>\n",
       "  </tbody>\n",
       "</table>\n",
       "</div>"
      ],
      "text/plain": [
       "   marks gender     result\n",
       "0   85.0      M   verygood\n",
       "1   95.0      F  excellent\n",
       "2   75.0   None       good\n",
       "3    NaN      M    average\n",
       "4   70.0      M       good\n",
       "5    NaN   None   verygood\n",
       "6   92.0      F   verygood\n",
       "7   98.0      M  excellent"
      ]
     },
     "execution_count": 32,
     "metadata": {},
     "output_type": "execute_result"
    }
   ],
   "source": [
    "# using imputer class\n",
    "#from sklearn.preprocessing import Imputer\n",
    "from sklearn.impute import SimpleImputer\n",
    "\n",
    "students = [[85, 'M', 'verygood'],\n",
    "           [95, 'F', 'excellent'],\n",
    "           [75, None,'good'],\n",
    "           [np.NaN, 'M', 'average'],\n",
    "           [70, 'M', 'good'],\n",
    "           [np.NaN, None, 'verygood'],\n",
    "           [92, 'F', 'verygood'],\n",
    "           [98, 'M', 'excellent']]\n",
    "df = pd.DataFrame(students)\n",
    "df.columns = ['marks', 'gender', 'result']\n",
    "df\n"
   ]
  },
  {
   "cell_type": "code",
   "execution_count": 33,
   "metadata": {
    "colab": {
     "base_uri": "https://localhost:8080/",
     "height": 300
    },
    "executionInfo": {
     "elapsed": 417,
     "status": "ok",
     "timestamp": 1692167721722,
     "user": {
      "displayName": "Anita Thengade",
      "userId": "00058614709673072476"
     },
     "user_tz": -330
    },
    "id": "kWktxaVUDUdU",
    "outputId": "17c95b28-1829-484e-ef18-d5964a4d7dea"
   },
   "outputs": [
    {
     "data": {
      "text/html": [
       "<div>\n",
       "<style scoped>\n",
       "    .dataframe tbody tr th:only-of-type {\n",
       "        vertical-align: middle;\n",
       "    }\n",
       "\n",
       "    .dataframe tbody tr th {\n",
       "        vertical-align: top;\n",
       "    }\n",
       "\n",
       "    .dataframe thead th {\n",
       "        text-align: right;\n",
       "    }\n",
       "</style>\n",
       "<table border=\"1\" class=\"dataframe\">\n",
       "  <thead>\n",
       "    <tr style=\"text-align: right;\">\n",
       "      <th></th>\n",
       "      <th>marks</th>\n",
       "      <th>gender</th>\n",
       "      <th>result</th>\n",
       "    </tr>\n",
       "  </thead>\n",
       "  <tbody>\n",
       "    <tr>\n",
       "      <th>0</th>\n",
       "      <td>85.000000</td>\n",
       "      <td>M</td>\n",
       "      <td>verygood</td>\n",
       "    </tr>\n",
       "    <tr>\n",
       "      <th>1</th>\n",
       "      <td>95.000000</td>\n",
       "      <td>F</td>\n",
       "      <td>excellent</td>\n",
       "    </tr>\n",
       "    <tr>\n",
       "      <th>2</th>\n",
       "      <td>75.000000</td>\n",
       "      <td>None</td>\n",
       "      <td>good</td>\n",
       "    </tr>\n",
       "    <tr>\n",
       "      <th>3</th>\n",
       "      <td>85.833333</td>\n",
       "      <td>M</td>\n",
       "      <td>average</td>\n",
       "    </tr>\n",
       "    <tr>\n",
       "      <th>4</th>\n",
       "      <td>70.000000</td>\n",
       "      <td>M</td>\n",
       "      <td>good</td>\n",
       "    </tr>\n",
       "    <tr>\n",
       "      <th>5</th>\n",
       "      <td>85.833333</td>\n",
       "      <td>None</td>\n",
       "      <td>verygood</td>\n",
       "    </tr>\n",
       "    <tr>\n",
       "      <th>6</th>\n",
       "      <td>92.000000</td>\n",
       "      <td>F</td>\n",
       "      <td>verygood</td>\n",
       "    </tr>\n",
       "    <tr>\n",
       "      <th>7</th>\n",
       "      <td>98.000000</td>\n",
       "      <td>M</td>\n",
       "      <td>excellent</td>\n",
       "    </tr>\n",
       "  </tbody>\n",
       "</table>\n",
       "</div>"
      ],
      "text/plain": [
       "       marks gender     result\n",
       "0  85.000000      M   verygood\n",
       "1  95.000000      F  excellent\n",
       "2  75.000000   None       good\n",
       "3  85.833333      M    average\n",
       "4  70.000000      M       good\n",
       "5  85.833333   None   verygood\n",
       "6  92.000000      F   verygood\n",
       "7  98.000000      M  excellent"
      ]
     },
     "execution_count": 33,
     "metadata": {},
     "output_type": "execute_result"
    }
   ],
   "source": [
    "imputer = SimpleImputer(missing_values=np.NaN, strategy='mean')\n",
    "\n",
    "df.marks = imputer.fit_transform(df['marks'].values.reshape(-1,1))[:,0]\n",
    "\n",
    "df"
   ]
  },
  {
   "cell_type": "code",
   "execution_count": 36,
   "metadata": {
    "id": "XJjucFWDOEVd",
    "outputId": "0f6cf16b-0234-4348-e47b-c76b248d88dc"
   },
   "outputs": [
    {
     "data": {
      "text/plain": [
       "array([[12. , 21.5, 34. ],\n",
       "       [10. , 32. , 27. ],\n",
       "       [11. , 11. , 20. ]])"
      ]
     },
     "execution_count": 36,
     "metadata": {},
     "output_type": "execute_result"
    }
   ],
   "source": [
    "imp = SimpleImputer(strategy='most_frequent')\n",
    "imp.fit_transform(data)"
   ]
  },
  {
   "cell_type": "code",
   "execution_count": 37,
   "metadata": {
    "id": "yt_TxH__OEVe",
    "outputId": "129817d7-332b-4fee-d938-7e79d560cf36"
   },
   "outputs": [
    {
     "data": {
      "text/plain": [
       "1985.0211764705882"
      ]
     },
     "execution_count": 37,
     "metadata": {},
     "output_type": "execute_result"
    }
   ],
   "source": [
    "dataset[\"Year\"].mean()"
   ]
  },
  {
   "cell_type": "code",
   "execution_count": 38,
   "metadata": {
    "id": "tuy-T-DPOEVf",
    "outputId": "358253ac-3fbe-4ef8-af90-32e77f91cae9"
   },
   "outputs": [
    {
     "data": {
      "text/plain": [
       "Datetime\n",
       "05 Jul 2014 - 17:00     2014.0\n",
       "08 Jul 2014 - 17:00     2014.0\n",
       "09 Jul 2014 - 17:00     2014.0\n",
       "12 Jul 2014 - 17:00     2014.0\n",
       "13 Jul 2014 - 16:00     2014.0\n",
       "Name: Year, dtype: float64"
      ]
     },
     "execution_count": 38,
     "metadata": {},
     "output_type": "execute_result"
    }
   ],
   "source": [
    "dataset[\"Year\"].tail()"
   ]
  },
  {
   "cell_type": "code",
   "execution_count": 39,
   "metadata": {
    "id": "rBaQ9vROOEVg",
    "outputId": "d5a8e1e9-a475-4df6-d876-2e0c4a156a22"
   },
   "outputs": [
    {
     "data": {
      "text/plain": [
       "Datetime\n",
       "13 Jul 1930 - 15:00     1930.0\n",
       "13 Jul 1930 - 15:00     1930.0\n",
       "14 Jul 1930 - 12:45     1930.0\n",
       "14 Jul 1930 - 14:50     1930.0\n",
       "15 Jul 1930 - 16:00     1930.0\n",
       "                         ...  \n",
       "05 Jul 2014 - 17:00     2014.0\n",
       "08 Jul 2014 - 17:00     2014.0\n",
       "09 Jul 2014 - 17:00     2014.0\n",
       "12 Jul 2014 - 17:00     2014.0\n",
       "13 Jul 2014 - 16:00     2014.0\n",
       "Name: Year, Length: 850, dtype: float64"
      ]
     },
     "execution_count": 39,
     "metadata": {},
     "output_type": "execute_result"
    }
   ],
   "source": [
    "dataset[\"Year\"].replace(np.NaN,dataset[\"Year\"].mean)"
   ]
  },
  {
   "cell_type": "markdown",
   "metadata": {
    "id": "gn9ASrmDOEVi"
   },
   "source": [
    "Data Transformation: Categorical values"
   ]
  },
  {
   "cell_type": "code",
   "execution_count": 40,
   "metadata": {
    "id": "PP8eoBR_OEVi",
    "outputId": "dc725d9c-4585-4b3f-a962-5fa0966aaa06"
   },
   "outputs": [
    {
     "data": {
      "text/plain": [
       "array([0.15704141, 0.1524883 ])"
      ]
     },
     "execution_count": 40,
     "metadata": {},
     "output_type": "execute_result"
    }
   ],
   "source": [
    "import numpy as np\n",
    "X = np.random.uniform(0.0, 1.0, size=(10, 2))\n",
    "Y = np.random.choice(('Male','Female'), size=(10))\n",
    "X[0]"
   ]
  },
  {
   "cell_type": "code",
   "execution_count": 41,
   "metadata": {
    "id": "rWaFKuxGOEVj",
    "outputId": "12c0c851-5320-44dc-cf1d-7c79f6c01a73"
   },
   "outputs": [
    {
     "data": {
      "text/plain": [
       "array([[0.15704141, 0.1524883 ],\n",
       "       [0.02898145, 0.26337241],\n",
       "       [0.59219523, 0.9856982 ],\n",
       "       [0.23617213, 0.01576066],\n",
       "       [0.870866  , 0.98426381],\n",
       "       [0.65843234, 0.15098973],\n",
       "       [0.85386218, 0.86793932],\n",
       "       [0.54957272, 0.49850163],\n",
       "       [0.90616327, 0.21791465],\n",
       "       [0.30066645, 0.45231099]])"
      ]
     },
     "execution_count": 41,
     "metadata": {},
     "output_type": "execute_result"
    }
   ],
   "source": [
    "X"
   ]
  },
  {
   "cell_type": "code",
   "execution_count": 42,
   "metadata": {
    "id": "TeroG-xXOEVk",
    "outputId": "4e7f95d1-08ff-4d11-ca04-d401023621fd"
   },
   "outputs": [
    {
     "data": {
      "text/plain": [
       "array(['Male', 'Female', 'Male', 'Male', 'Female', 'Male', 'Male', 'Male',\n",
       "       'Male', 'Male'], dtype='<U6')"
      ]
     },
     "execution_count": 42,
     "metadata": {},
     "output_type": "execute_result"
    }
   ],
   "source": [
    "Y"
   ]
  },
  {
   "cell_type": "code",
   "execution_count": 43,
   "metadata": {
    "id": "7PPJTxG0OEVl"
   },
   "outputs": [],
   "source": [
    "from sklearn.preprocessing import LabelEncoder\n",
    "le = LabelEncoder()\n",
    "yt = le.fit_transform(Y)"
   ]
  },
  {
   "cell_type": "code",
   "execution_count": 44,
   "metadata": {
    "id": "Nqr9hBqzOEVm",
    "outputId": "d7d78fca-118b-4df9-c0a8-b1f826d163de"
   },
   "outputs": [
    {
     "data": {
      "text/plain": [
       "array([1, 0, 1, 1, 0, 1, 1, 1, 1, 1], dtype=int64)"
      ]
     },
     "execution_count": 44,
     "metadata": {},
     "output_type": "execute_result"
    }
   ],
   "source": [
    "yt"
   ]
  },
  {
   "cell_type": "code",
   "execution_count": 45,
   "metadata": {
    "id": "bstoRvtbOEVn"
   },
   "outputs": [],
   "source": [
    "output = [1, 0, 1, 1, 0, 0]"
   ]
  },
  {
   "cell_type": "code",
   "execution_count": 46,
   "metadata": {
    "id": "NMT9MiexOEVo"
   },
   "outputs": [],
   "source": [
    "decoded_output = [le.classes_[i] for i in output]"
   ]
  },
  {
   "cell_type": "code",
   "execution_count": 47,
   "metadata": {
    "id": "GHKj-Pb7OEVp",
    "outputId": "4f8d71c9-c80c-4de0-cb86-36b8c3e26d25"
   },
   "outputs": [
    {
     "data": {
      "text/plain": [
       "['Male', 'Female', 'Male', 'Male', 'Female', 'Female']"
      ]
     },
     "execution_count": 47,
     "metadata": {},
     "output_type": "execute_result"
    }
   ],
   "source": [
    "decoded_output"
   ]
  },
  {
   "cell_type": "code",
   "execution_count": 48,
   "metadata": {
    "id": "P1YeGBUaOEVq"
   },
   "outputs": [],
   "source": [
    "#one-hot encoding using LabelBinarizer class\n",
    "from sklearn.preprocessing import LabelBinarizer\n",
    "lb = LabelBinarizer()\n",
    "Yb = lb.fit_transform(Y)"
   ]
  },
  {
   "cell_type": "code",
   "execution_count": 49,
   "metadata": {
    "id": "qaw7IX3gOEVr",
    "outputId": "9c9de5b2-ca2e-470c-d932-a829d8598edb"
   },
   "outputs": [
    {
     "data": {
      "text/plain": [
       "array([[1],\n",
       "       [0],\n",
       "       [1],\n",
       "       [1],\n",
       "       [0],\n",
       "       [1],\n",
       "       [1],\n",
       "       [1],\n",
       "       [1],\n",
       "       [1]])"
      ]
     },
     "execution_count": 49,
     "metadata": {},
     "output_type": "execute_result"
    }
   ],
   "source": [
    "Yb"
   ]
  },
  {
   "cell_type": "code",
   "execution_count": 50,
   "metadata": {
    "id": "lS0iLxA7OEVs",
    "outputId": "856de591-f8ed-4cf2-b8ef-4721b22a0b90"
   },
   "outputs": [
    {
     "data": {
      "text/plain": [
       "array(['Male', 'Female', 'Male', 'Male', 'Female', 'Male', 'Male', 'Male',\n",
       "       'Male', 'Male'], dtype='<U6')"
      ]
     },
     "execution_count": 50,
     "metadata": {},
     "output_type": "execute_result"
    }
   ],
   "source": [
    "lb.inverse_transform(Yb)"
   ]
  },
  {
   "cell_type": "code",
   "execution_count": 51,
   "metadata": {
    "id": "ZHQ7ab-zOEVt"
   },
   "outputs": [],
   "source": [
    "from sklearn.preprocessing import OneHotEncoder\n",
    "data =[\n",
    "[0, 10],\n",
    "[1, 11],\n",
    "[1, 8],\n",
    "[0, 12],\n",
    "[0, 15]\n",
    "]"
   ]
  },
  {
   "cell_type": "code",
   "execution_count": 52,
   "metadata": {
    "id": "PJB1ST6iOEVu",
    "outputId": "8033634d-f383-4965-d91f-f5fba626c2cb"
   },
   "outputs": [
    {
     "data": {
      "text/plain": [
       "[[0, 10], [1, 11], [1, 8], [0, 12], [0, 15]]"
      ]
     },
     "execution_count": 52,
     "metadata": {},
     "output_type": "execute_result"
    }
   ],
   "source": [
    "data"
   ]
  },
  {
   "cell_type": "markdown",
   "metadata": {},
   "source": [
    "Find Outliers"
   ]
  },
  {
   "cell_type": "code",
   "execution_count": 54,
   "metadata": {},
   "outputs": [
    {
     "data": {
      "text/plain": [
       "<Axes: xlabel='Attendance'>"
      ]
     },
     "execution_count": 54,
     "metadata": {},
     "output_type": "execute_result"
    },
    {
     "data": {
      "image/png": "[encoded data removed]",
      "text/plain": [
       "<Figure size 640x480 with 1 Axes>"
      ]
     },
     "metadata": {},
     "output_type": "display_data"
    }
   ],
   "source": [
    "import seaborn as sns\n",
    "sns.boxplot(x=dataset['Attendance'])\n"
   ]
  },
  {
   "cell_type": "markdown",
   "metadata": {},
   "source": [
    "Normalize Data"
   ]
  },
  {
   "cell_type": "code",
   "execution_count": 56,
   "metadata": {},
   "outputs": [],
   "source": [
    "from sklearn.preprocessing import StandardScaler, MinMaxScaler\n",
    "\n",
    "scaler = StandardScaler()\n",
    "dataset[['Attendance']] = scaler.fit_transform(dataset[['Attendance']])"
   ]
  },
  {
   "cell_type": "markdown",
   "metadata": {},
   "source": [
    "Feature Engineering"
   ]
  },
  {
   "cell_type": "code",
   "execution_count": 57,
   "metadata": {},
   "outputs": [],
   "source": [
    "dataset['TotalGoals'] = dataset['Home Team Goals'] + dataset['Away Team Goals']\n"
   ]
  },
  {
   "cell_type": "markdown",
   "metadata": {},
   "source": [
    "Visualization"
   ]
  },
  {
   "cell_type": "code",
   "execution_count": 58,
   "metadata": {},
   "outputs": [
    {
     "data": {
      "image/png": "[encoded data removed]",
      "text/plain": [
       "<Figure size 640x480 with 1 Axes>"
      ]
     },
     "metadata": {},
     "output_type": "display_data"
    },
    {
     "data": {
      "image/png": "[encoded data removed]",
      "text/plain": [
       "<Figure size 640x480 with 1 Axes>"
      ]
     },
     "metadata": {},
     "output_type": "display_data"
    }
   ],
   "source": [
    "import matplotlib.pyplot as plt\n",
    "import seaborn as sns\n",
    "\n",
    "# Distribution of Attendance\n",
    "sns.histplot(dataset['Attendance'])\n",
    "plt.show()\n",
    "\n",
    "# Distribution of Goals\n",
    "sns.boxplot(x=dataset['TotalGoals'])\n",
    "plt.show()"
   ]
  },
  {
   "cell_type": "markdown",
   "metadata": {},
   "source": [
    "Group By and Aggregation"
   ]
  },
  {
   "cell_type": "code",
   "execution_count": 64,
   "metadata": {},
   "outputs": [
    {
     "name": "stdout",
     "output_type": "stream",
     "text": [
      "City\n",
      "Alicante          4.000\n",
      "Antibes           8.000\n",
      "Arica             4.000\n",
      "Barcelona         2.375\n",
      "Bari              3.400\n",
      "                  ...  \n",
      "Vina Del Mar      2.375\n",
      "Washington Dc     2.000\n",
      "Yokohama          1.750\n",
      "Zaragoza          1.000\n",
      "Zurich            5.600\n",
      "Name: TotalGoals, Length: 151, dtype: float64\n"
     ]
    }
   ],
   "source": [
    "avg_goals_per_city = dataset.groupby('City')['TotalGoals'].mean()\n",
    "print(avg_goals_per_city)\n"
   ]
  },
  {
   "cell_type": "code",
   "execution_count": null,
   "metadata": {},
   "outputs": [],
   "source": []
  }
 ],
 "metadata": {
  "colab": {
   "provenance": []
  },
  "kernelspec": {
   "display_name": "Python 3 (ipykernel)",
   "language": "python",
   "name": "python3"
  },
  "language_info": {
   "codemirror_mode": {
    "name": "ipython",
    "version": 3
   },
   "file_extension": ".py",
   "mimetype": "text/x-python",
   "name": "python",
   "nbconvert_exporter": "python",
   "pygments_lexer": "ipython3",
   "version": "3.11.5"
  }
 },
 "nbformat": 4,
 "nbformat_minor": 1
}
