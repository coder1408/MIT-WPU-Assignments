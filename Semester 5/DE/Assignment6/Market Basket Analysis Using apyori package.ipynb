{
 "cells": [
  {
   "cell_type": "markdown",
   "metadata": {
    "id": "rCcF4XSF8wPP"
   },
   "source": [
    "# Market Basket Analysis of Store Data\n",
    "\n",
    "## Dataset Description\n",
    "\n",
    "* Different products given 7500 transactions over the course of a week at a French retail store.\n",
    "* We have library(**apyori**) to calculate the association rule using Apriori."
   ]
  },
  {
   "cell_type": "code",
   "execution_count": null,
   "metadata": {
    "id": "4z6jQPg2cg5n"
   },
   "outputs": [],
   "source": []
  },
  {
   "cell_type": "markdown",
   "metadata": {
    "id": "ipHOITxT8wPY"
   },
   "source": [
    "## Import the Library"
   ]
  },
  {
   "cell_type": "code",
   "execution_count": 1,
   "metadata": {
    "colab": {
     "base_uri": "https://localhost:8080/"
    },
    "executionInfo": {
     "elapsed": 16537,
     "status": "ok",
     "timestamp": 1727072566409,
     "user": {
      "displayName": "Shilpa Sonawani",
      "userId": "06411112398944637592"
     },
     "user_tz": -330
    },
    "id": "cJ9gZQTk9PFL",
    "outputId": "475923f3-4ea2-4c88-ae96-28a8b5a919cf"
   },
   "outputs": [
    {
     "name": "stdout",
     "output_type": "stream",
     "text": [
      "Collecting apyori\n",
      "  Downloading apyori-1.1.2.tar.gz (8.6 kB)\n",
      "  Preparing metadata (setup.py): started\n",
      "  Preparing metadata (setup.py): finished with status 'done'\n",
      "Building wheels for collected packages: apyori\n",
      "  Building wheel for apyori (setup.py): started\n",
      "  Building wheel for apyori (setup.py): finished with status 'done'\n",
      "  Created wheel for apyori: filename=apyori-1.1.2-py3-none-any.whl size=5974 sha256=3b78090decb1464afb9a0608d9836c799d924dd06a4d309b45ec5759d5ceeb64\n",
      "  Stored in directory: c:\\users\\ishan\\appdata\\local\\pip\\cache\\wheels\\77\\3d\\a6\\d317a6fb32be58a602b1e8c6b5d6f31f79322da554cad2a5ea\n",
      "Successfully built apyori\n",
      "Installing collected packages: apyori\n",
      "Successfully installed apyori-1.1.2\n"
     ]
    }
   ],
   "source": [
    "!pip install apyori"
   ]
  },
  {
   "cell_type": "code",
   "execution_count": 2,
   "metadata": {
    "ExecuteTime": {
     "end_time": "2019-05-31T11:46:52.394081Z",
     "start_time": "2019-05-31T11:46:51.727017Z"
    },
    "executionInfo": {
     "elapsed": 1726,
     "status": "ok",
     "timestamp": 1727072573936,
     "user": {
      "displayName": "Shilpa Sonawani",
      "userId": "06411112398944637592"
     },
     "user_tz": -330
    },
    "id": "It7SJ5e58wPZ"
   },
   "outputs": [],
   "source": [
    "import numpy as np\n",
    "import pandas as pd\n",
    "import matplotlib.pyplot as plt\n",
    "from apyori import apriori"
   ]
  },
  {
   "cell_type": "markdown",
   "metadata": {
    "id": "PzsmExrS8wPc"
   },
   "source": [
    "## Read data and Display"
   ]
  },
  {
   "cell_type": "code",
   "execution_count": 4,
   "metadata": {
    "ExecuteTime": {
     "end_time": "2019-05-31T11:46:52.446120Z",
     "start_time": "2019-05-31T11:46:52.396020Z"
    },
    "colab": {
     "base_uri": "https://localhost:8080/",
     "height": 296
    },
    "executionInfo": {
     "elapsed": 13,
     "status": "ok",
     "timestamp": 1727072576909,
     "user": {
      "displayName": "Shilpa Sonawani",
      "userId": "06411112398944637592"
     },
     "user_tz": -330
    },
    "id": "rUG5pkTZ8wPd",
    "outputId": "abe508f1-26cf-413a-a796-a902ce2c8f00"
   },
   "outputs": [
    {
     "data": {
      "text/html": [
       "<div>\n",
       "<style scoped>\n",
       "    .dataframe tbody tr th:only-of-type {\n",
       "        vertical-align: middle;\n",
       "    }\n",
       "\n",
       "    .dataframe tbody tr th {\n",
       "        vertical-align: top;\n",
       "    }\n",
       "\n",
       "    .dataframe thead th {\n",
       "        text-align: right;\n",
       "    }\n",
       "</style>\n",
       "<table border=\"1\" class=\"dataframe\">\n",
       "  <thead>\n",
       "    <tr style=\"text-align: right;\">\n",
       "      <th></th>\n",
       "      <th>0</th>\n",
       "      <th>1</th>\n",
       "      <th>2</th>\n",
       "      <th>3</th>\n",
       "      <th>4</th>\n",
       "      <th>5</th>\n",
       "      <th>6</th>\n",
       "      <th>7</th>\n",
       "      <th>8</th>\n",
       "      <th>9</th>\n",
       "      <th>10</th>\n",
       "      <th>11</th>\n",
       "      <th>12</th>\n",
       "      <th>13</th>\n",
       "      <th>14</th>\n",
       "      <th>15</th>\n",
       "      <th>16</th>\n",
       "      <th>17</th>\n",
       "      <th>18</th>\n",
       "      <th>19</th>\n",
       "    </tr>\n",
       "  </thead>\n",
       "  <tbody>\n",
       "    <tr>\n",
       "      <th>0</th>\n",
       "      <td>shrimp</td>\n",
       "      <td>almonds</td>\n",
       "      <td>avocado</td>\n",
       "      <td>vegetables mix</td>\n",
       "      <td>green grapes</td>\n",
       "      <td>whole weat flour</td>\n",
       "      <td>yams</td>\n",
       "      <td>cottage cheese</td>\n",
       "      <td>energy drink</td>\n",
       "      <td>tomato juice</td>\n",
       "      <td>low fat yogurt</td>\n",
       "      <td>green tea</td>\n",
       "      <td>honey</td>\n",
       "      <td>salad</td>\n",
       "      <td>mineral water</td>\n",
       "      <td>salmon</td>\n",
       "      <td>antioxydant juice</td>\n",
       "      <td>frozen smoothie</td>\n",
       "      <td>spinach</td>\n",
       "      <td>olive oil</td>\n",
       "    </tr>\n",
       "    <tr>\n",
       "      <th>1</th>\n",
       "      <td>burgers</td>\n",
       "      <td>meatballs</td>\n",
       "      <td>eggs</td>\n",
       "      <td>NaN</td>\n",
       "      <td>NaN</td>\n",
       "      <td>NaN</td>\n",
       "      <td>NaN</td>\n",
       "      <td>NaN</td>\n",
       "      <td>NaN</td>\n",
       "      <td>NaN</td>\n",
       "      <td>NaN</td>\n",
       "      <td>NaN</td>\n",
       "      <td>NaN</td>\n",
       "      <td>NaN</td>\n",
       "      <td>NaN</td>\n",
       "      <td>NaN</td>\n",
       "      <td>NaN</td>\n",
       "      <td>NaN</td>\n",
       "      <td>NaN</td>\n",
       "      <td>NaN</td>\n",
       "    </tr>\n",
       "    <tr>\n",
       "      <th>2</th>\n",
       "      <td>chutney</td>\n",
       "      <td>NaN</td>\n",
       "      <td>NaN</td>\n",
       "      <td>NaN</td>\n",
       "      <td>NaN</td>\n",
       "      <td>NaN</td>\n",
       "      <td>NaN</td>\n",
       "      <td>NaN</td>\n",
       "      <td>NaN</td>\n",
       "      <td>NaN</td>\n",
       "      <td>NaN</td>\n",
       "      <td>NaN</td>\n",
       "      <td>NaN</td>\n",
       "      <td>NaN</td>\n",
       "      <td>NaN</td>\n",
       "      <td>NaN</td>\n",
       "      <td>NaN</td>\n",
       "      <td>NaN</td>\n",
       "      <td>NaN</td>\n",
       "      <td>NaN</td>\n",
       "    </tr>\n",
       "    <tr>\n",
       "      <th>3</th>\n",
       "      <td>turkey</td>\n",
       "      <td>avocado</td>\n",
       "      <td>NaN</td>\n",
       "      <td>NaN</td>\n",
       "      <td>NaN</td>\n",
       "      <td>NaN</td>\n",
       "      <td>NaN</td>\n",
       "      <td>NaN</td>\n",
       "      <td>NaN</td>\n",
       "      <td>NaN</td>\n",
       "      <td>NaN</td>\n",
       "      <td>NaN</td>\n",
       "      <td>NaN</td>\n",
       "      <td>NaN</td>\n",
       "      <td>NaN</td>\n",
       "      <td>NaN</td>\n",
       "      <td>NaN</td>\n",
       "      <td>NaN</td>\n",
       "      <td>NaN</td>\n",
       "      <td>NaN</td>\n",
       "    </tr>\n",
       "    <tr>\n",
       "      <th>4</th>\n",
       "      <td>mineral water</td>\n",
       "      <td>milk</td>\n",
       "      <td>energy bar</td>\n",
       "      <td>whole wheat rice</td>\n",
       "      <td>green tea</td>\n",
       "      <td>NaN</td>\n",
       "      <td>NaN</td>\n",
       "      <td>NaN</td>\n",
       "      <td>NaN</td>\n",
       "      <td>NaN</td>\n",
       "      <td>NaN</td>\n",
       "      <td>NaN</td>\n",
       "      <td>NaN</td>\n",
       "      <td>NaN</td>\n",
       "      <td>NaN</td>\n",
       "      <td>NaN</td>\n",
       "      <td>NaN</td>\n",
       "      <td>NaN</td>\n",
       "      <td>NaN</td>\n",
       "      <td>NaN</td>\n",
       "    </tr>\n",
       "  </tbody>\n",
       "</table>\n",
       "</div>"
      ],
      "text/plain": [
       "              0          1           2                 3             4   \\\n",
       "0         shrimp    almonds     avocado    vegetables mix  green grapes   \n",
       "1        burgers  meatballs        eggs               NaN           NaN   \n",
       "2        chutney        NaN         NaN               NaN           NaN   \n",
       "3         turkey    avocado         NaN               NaN           NaN   \n",
       "4  mineral water       milk  energy bar  whole wheat rice     green tea   \n",
       "\n",
       "                 5     6               7             8             9   \\\n",
       "0  whole weat flour  yams  cottage cheese  energy drink  tomato juice   \n",
       "1               NaN   NaN             NaN           NaN           NaN   \n",
       "2               NaN   NaN             NaN           NaN           NaN   \n",
       "3               NaN   NaN             NaN           NaN           NaN   \n",
       "4               NaN   NaN             NaN           NaN           NaN   \n",
       "\n",
       "               10         11     12     13             14      15  \\\n",
       "0  low fat yogurt  green tea  honey  salad  mineral water  salmon   \n",
       "1             NaN        NaN    NaN    NaN            NaN     NaN   \n",
       "2             NaN        NaN    NaN    NaN            NaN     NaN   \n",
       "3             NaN        NaN    NaN    NaN            NaN     NaN   \n",
       "4             NaN        NaN    NaN    NaN            NaN     NaN   \n",
       "\n",
       "                  16               17       18         19  \n",
       "0  antioxydant juice  frozen smoothie  spinach  olive oil  \n",
       "1                NaN              NaN      NaN        NaN  \n",
       "2                NaN              NaN      NaN        NaN  \n",
       "3                NaN              NaN      NaN        NaN  \n",
       "4                NaN              NaN      NaN        NaN  "
      ]
     },
     "metadata": {},
     "output_type": "display_data"
    },
    {
     "name": "stdout",
     "output_type": "stream",
     "text": [
      "(7501, 20)\n"
     ]
    }
   ],
   "source": [
    "store_data = pd.read_csv(r\"C:\\Users\\ishan\\Desktop\\Ishan\\Coding\\MIT-WPU-Assignments\\Semester 5\\DE\\Assignment6\\store_data.csv\", header=None)\n",
    "display(store_data.head())\n",
    "print(store_data.shape)"
   ]
  },
  {
   "cell_type": "markdown",
   "metadata": {
    "id": "B6IrSH6l8wPf"
   },
   "source": [
    "## Preprocessing on Data\n",
    "*  Here we need a data in form of list for Apriori Algorithm."
   ]
  },
  {
   "cell_type": "code",
   "execution_count": 5,
   "metadata": {
    "ExecuteTime": {
     "end_time": "2019-05-31T11:46:53.754118Z",
     "start_time": "2019-05-31T11:46:52.448022Z"
    },
    "executionInfo": {
     "elapsed": 899,
     "status": "ok",
     "timestamp": 1727072584198,
     "user": {
      "displayName": "Shilpa Sonawani",
      "userId": "06411112398944637592"
     },
     "user_tz": -330
    },
    "id": "rjI6liQy8wPg"
   },
   "outputs": [],
   "source": [
    "records = []\n",
    "for i in range(1, 7501):\n",
    "    records.append([str(store_data.values[i, j]) for j in range(0, 20)])"
   ]
  },
  {
   "cell_type": "code",
   "execution_count": 6,
   "metadata": {
    "ExecuteTime": {
     "end_time": "2019-05-31T11:46:53.759119Z",
     "start_time": "2019-05-31T11:46:53.756117Z"
    },
    "colab": {
     "base_uri": "https://localhost:8080/"
    },
    "executionInfo": {
     "elapsed": 395,
     "status": "ok",
     "timestamp": 1727072598056,
     "user": {
      "displayName": "Shilpa Sonawani",
      "userId": "06411112398944637592"
     },
     "user_tz": -330
    },
    "id": "hyYhAdF_8wPh",
    "outputId": "447c1faf-5ad6-45ff-bef0-a513945880ab"
   },
   "outputs": [
    {
     "name": "stdout",
     "output_type": "stream",
     "text": [
      "<class 'list'>\n"
     ]
    }
   ],
   "source": [
    "print(type(records))"
   ]
  },
  {
   "cell_type": "markdown",
   "metadata": {
    "id": "O0ySpKUX8wPi"
   },
   "source": [
    "## Apriori Algorithm\n",
    "\n",
    "* Now time to apply algorithm on data.\n",
    "* We have provide `min_support`, `min_confidence`, `min_lift`, and `min length` of sample-set for find rule.\n",
    "\n",
    "#### Measure 1: Support.\n",
    "This says how popular an itemset is, as measured by the proportion of transactions in which an itemset appears. In Table 1 below, the support of {apple} is 4 out of 8, or 50%. Itemsets can also contain multiple items. For instance, the support of {apple, beer, rice} is 2 out of 8, or 25%.\n",
    "\n",
    "![](https://annalyzin.files.wordpress.com/2016/04/association-rule-support-table.png?w=503&h=447)\n",
    "\n",
    "If you discover that sales of items beyond a certain proportion tend to have a significant impact on your profits, you might consider using that proportion as your support threshold. You may then identify itemsets with support values above this threshold as significant itemsets.\n",
    "\n",
    "#### Measure 2: Confidence.\n",
    "This says how likely item Y is purchased when item X is purchased, expressed as {X -> Y}. This is measured by the proportion of transactions with item X, in which item Y also appears. In Table 1, the confidence of {apple -> beer} is 3 out of 4, or 75%.\n",
    "\n",
    "![](https://annalyzin.files.wordpress.com/2016/03/association-rule-confidence-eqn.png?w=527&h=77)\n",
    "\n",
    "One drawback of the confidence measure is that it might misrepresent the importance of an association. This is because it only accounts for how popular apples are, but not beers. If beers are also very popular in general, there will be a higher chance that a transaction containing apples will also contain beers, thus inflating the confidence measure. To account for the base popularity of both constituent items, we use a third measure called lift.\n",
    "\n",
    "#### Measure 3: Lift.\n",
    "This says how likely item Y is purchased when item X is purchased, while controlling for how popular item Y is. In Table 1, the lift of {apple -> beer} is 1,which implies no association between items. A lift value greater than 1 means that item Y is likely to be bought if item X is bought, while a value less than 1 means that item Y is unlikely to be bought if item X is bought.\n",
    "![](https://annalyzin.files.wordpress.com/2016/03/association-rule-lift-eqn.png?w=566&h=80)"
   ]
  },
  {
   "cell_type": "code",
   "execution_count": 7,
   "metadata": {
    "ExecuteTime": {
     "end_time": "2019-05-31T11:47:42.407141Z",
     "start_time": "2019-05-31T11:47:40.566100Z"
    },
    "executionInfo": {
     "elapsed": 3695,
     "status": "ok",
     "timestamp": 1727072634800,
     "user": {
      "displayName": "Shilpa Sonawani",
      "userId": "06411112398944637592"
     },
     "user_tz": -330
    },
    "id": "WWbNdFec8wPl"
   },
   "outputs": [],
   "source": [
    "association_rules = apriori(records, min_support=0.0045, min_confidence=0.2, min_lift=3, min_length=2)\n",
    "association_results = list(association_rules)"
   ]
  },
  {
   "cell_type": "code",
   "execution_count": 8,
   "metadata": {
    "colab": {
     "base_uri": "https://localhost:8080/"
    },
    "executionInfo": {
     "elapsed": 437,
     "status": "ok",
     "timestamp": 1727072636852,
     "user": {
      "displayName": "Shilpa Sonawani",
      "userId": "06411112398944637592"
     },
     "user_tz": -330
    },
    "id": "D6OObeAyfVn8",
    "outputId": "fd12b4dd-b4fd-4b31-ae18-d91138142976"
   },
   "outputs": [
    {
     "name": "stdout",
     "output_type": "stream",
     "text": [
      "[RelationRecord(items=frozenset({'light cream', 'chicken'}), support=0.004533333333333334, ordered_statistics=[OrderedStatistic(items_base=frozenset({'light cream'}), items_add=frozenset({'chicken'}), confidence=0.2905982905982906, lift=4.843304843304844)]), RelationRecord(items=frozenset({'mushroom cream sauce', 'escalope'}), support=0.005733333333333333, ordered_statistics=[OrderedStatistic(items_base=frozenset({'mushroom cream sauce'}), items_add=frozenset({'escalope'}), confidence=0.30069930069930073, lift=3.7903273197390845)]), RelationRecord(items=frozenset({'pasta', 'escalope'}), support=0.005866666666666667, ordered_statistics=[OrderedStatistic(items_base=frozenset({'pasta'}), items_add=frozenset({'escalope'}), confidence=0.37288135593220345, lift=4.700185158809287)]), RelationRecord(items=frozenset({'herb & pepper', 'ground beef'}), support=0.016, ordered_statistics=[OrderedStatistic(items_base=frozenset({'herb & pepper'}), items_add=frozenset({'ground beef'}), confidence=0.3234501347708895, lift=3.2915549671393096)]), RelationRecord(items=frozenset({'ground beef', 'tomato sauce'}), support=0.005333333333333333, ordered_statistics=[OrderedStatistic(items_base=frozenset({'tomato sauce'}), items_add=frozenset({'ground beef'}), confidence=0.37735849056603776, lift=3.840147461662528)]), RelationRecord(items=frozenset({'olive oil', 'whole wheat pasta'}), support=0.008, ordered_statistics=[OrderedStatistic(items_base=frozenset({'whole wheat pasta'}), items_add=frozenset({'olive oil'}), confidence=0.2714932126696833, lift=4.130221288078346)]), RelationRecord(items=frozenset({'shrimp', 'pasta'}), support=0.005066666666666666, ordered_statistics=[OrderedStatistic(items_base=frozenset({'pasta'}), items_add=frozenset({'shrimp'}), confidence=0.3220338983050848, lift=4.514493901473151)]), RelationRecord(items=frozenset({'light cream', 'chicken', 'nan'}), support=0.004533333333333334, ordered_statistics=[OrderedStatistic(items_base=frozenset({'light cream'}), items_add=frozenset({'chicken', 'nan'}), confidence=0.2905982905982906, lift=4.843304843304844), OrderedStatistic(items_base=frozenset({'light cream', 'nan'}), items_add=frozenset({'chicken'}), confidence=0.2905982905982906, lift=4.843304843304844)]), RelationRecord(items=frozenset({'shrimp', 'frozen vegetables', 'chocolate'}), support=0.005333333333333333, ordered_statistics=[OrderedStatistic(items_base=frozenset({'frozen vegetables', 'chocolate'}), items_add=frozenset({'shrimp'}), confidence=0.23255813953488372, lift=3.260160834601174), OrderedStatistic(items_base=frozenset({'shrimp', 'chocolate'}), items_add=frozenset({'frozen vegetables'}), confidence=0.29629629629629634, lift=3.1080031080031083)]), RelationRecord(items=frozenset({'ground beef', 'cooking oil', 'spaghetti'}), support=0.0048, ordered_statistics=[OrderedStatistic(items_base=frozenset({'ground beef', 'cooking oil'}), items_add=frozenset({'spaghetti'}), confidence=0.5714285714285714, lift=3.281557646029315), OrderedStatistic(items_base=frozenset({'cooking oil', 'spaghetti'}), items_add=frozenset({'ground beef'}), confidence=0.30252100840336127, lift=3.0785719986773534)]), RelationRecord(items=frozenset({'mushroom cream sauce', 'nan', 'escalope'}), support=0.005733333333333333, ordered_statistics=[OrderedStatistic(items_base=frozenset({'mushroom cream sauce'}), items_add=frozenset({'nan', 'escalope'}), confidence=0.30069930069930073, lift=3.7903273197390845), OrderedStatistic(items_base=frozenset({'mushroom cream sauce', 'nan'}), items_add=frozenset({'escalope'}), confidence=0.30069930069930073, lift=3.7903273197390845)]), RelationRecord(items=frozenset({'pasta', 'nan', 'escalope'}), support=0.005866666666666667, ordered_statistics=[OrderedStatistic(items_base=frozenset({'pasta'}), items_add=frozenset({'nan', 'escalope'}), confidence=0.37288135593220345, lift=4.700185158809287), OrderedStatistic(items_base=frozenset({'pasta', 'nan'}), items_add=frozenset({'escalope'}), confidence=0.37288135593220345, lift=4.700185158809287)]), RelationRecord(items=frozenset({'ground beef', 'frozen vegetables', 'spaghetti'}), support=0.008666666666666666, ordered_statistics=[OrderedStatistic(items_base=frozenset({'frozen vegetables', 'spaghetti'}), items_add=frozenset({'ground beef'}), confidence=0.3110047846889952, lift=3.164906221394116)]), RelationRecord(items=frozenset({'olive oil', 'milk', 'frozen vegetables'}), support=0.0048, ordered_statistics=[OrderedStatistic(items_base=frozenset({'milk', 'frozen vegetables'}), items_add=frozenset({'olive oil'}), confidence=0.20338983050847456, lift=3.094165778526489), OrderedStatistic(items_base=frozenset({'olive oil', 'frozen vegetables'}), items_add=frozenset({'milk'}), confidence=0.4235294117647058, lift=3.26797385620915)]), RelationRecord(items=frozenset({'mineral water', 'shrimp', 'frozen vegetables'}), support=0.0072, ordered_statistics=[OrderedStatistic(items_base=frozenset({'mineral water', 'shrimp'}), items_add=frozenset({'frozen vegetables'}), confidence=0.3068181818181818, lift=3.2183725365543547)]), RelationRecord(items=frozenset({'olive oil', 'frozen vegetables', 'spaghetti'}), support=0.005733333333333333, ordered_statistics=[OrderedStatistic(items_base=frozenset({'frozen vegetables', 'spaghetti'}), items_add=frozenset({'olive oil'}), confidence=0.20574162679425836, lift=3.1299436124887174)]), RelationRecord(items=frozenset({'shrimp', 'frozen vegetables', 'spaghetti'}), support=0.006, ordered_statistics=[OrderedStatistic(items_base=frozenset({'frozen vegetables', 'spaghetti'}), items_add=frozenset({'shrimp'}), confidence=0.21531100478468898, lift=3.0183785717479763)]), RelationRecord(items=frozenset({'tomatoes', 'frozen vegetables', 'spaghetti'}), support=0.006666666666666667, ordered_statistics=[OrderedStatistic(items_base=frozenset({'frozen vegetables', 'spaghetti'}), items_add=frozenset({'tomatoes'}), confidence=0.23923444976076555, lift=3.497579674864993), OrderedStatistic(items_base=frozenset({'tomatoes', 'spaghetti'}), items_add=frozenset({'frozen vegetables'}), confidence=0.3184713375796178, lift=3.340608436149837)]), RelationRecord(items=frozenset({'grated cheese', 'ground beef', 'spaghetti'}), support=0.005333333333333333, ordered_statistics=[OrderedStatistic(items_base=frozenset({'grated cheese', 'spaghetti'}), items_add=frozenset({'ground beef'}), confidence=0.3225806451612903, lift=3.282706701098612)]), RelationRecord(items=frozenset({'herb & pepper', 'ground beef', 'mineral water'}), support=0.006666666666666667, ordered_statistics=[OrderedStatistic(items_base=frozenset({'herb & pepper', 'mineral water'}), items_add=frozenset({'ground beef'}), confidence=0.390625, lift=3.975152645861601)]), RelationRecord(items=frozenset({'herb & pepper', 'ground beef', 'nan'}), support=0.016, ordered_statistics=[OrderedStatistic(items_base=frozenset({'herb & pepper'}), items_add=frozenset({'ground beef', 'nan'}), confidence=0.3234501347708895, lift=3.2915549671393096), OrderedStatistic(items_base=frozenset({'herb & pepper', 'nan'}), items_add=frozenset({'ground beef'}), confidence=0.3234501347708895, lift=3.2915549671393096)]), RelationRecord(items=frozenset({'herb & pepper', 'ground beef', 'spaghetti'}), support=0.0064, ordered_statistics=[OrderedStatistic(items_base=frozenset({'herb & pepper', 'spaghetti'}), items_add=frozenset({'ground beef'}), confidence=0.3934426229508197, lift=4.003825878061259)]), RelationRecord(items=frozenset({'milk', 'ground beef', 'olive oil'}), support=0.004933333333333333, ordered_statistics=[OrderedStatistic(items_base=frozenset({'milk', 'ground beef'}), items_add=frozenset({'olive oil'}), confidence=0.22424242424242424, lift=3.411395906324912)]), RelationRecord(items=frozenset({'ground beef', 'tomato sauce', 'nan'}), support=0.005333333333333333, ordered_statistics=[OrderedStatistic(items_base=frozenset({'tomato sauce'}), items_add=frozenset({'ground beef', 'nan'}), confidence=0.37735849056603776, lift=3.840147461662528), OrderedStatistic(items_base=frozenset({'tomato sauce', 'nan'}), items_add=frozenset({'ground beef'}), confidence=0.37735849056603776, lift=3.840147461662528)]), RelationRecord(items=frozenset({'ground beef', 'shrimp', 'spaghetti'}), support=0.006, ordered_statistics=[OrderedStatistic(items_base=frozenset({'ground beef', 'shrimp'}), items_add=frozenset({'spaghetti'}), confidence=0.5232558139534884, lift=3.004914704939635)]), RelationRecord(items=frozenset({'olive oil', 'milk', 'spaghetti'}), support=0.0072, ordered_statistics=[OrderedStatistic(items_base=frozenset({'milk', 'spaghetti'}), items_add=frozenset({'olive oil'}), confidence=0.20300751879699247, lift=3.0883496774390333)]), RelationRecord(items=frozenset({'soup', 'olive oil', 'mineral water'}), support=0.0052, ordered_statistics=[OrderedStatistic(items_base=frozenset({'soup', 'mineral water'}), items_add=frozenset({'olive oil'}), confidence=0.2254335260115607, lift=3.4295161157945335)]), RelationRecord(items=frozenset({'olive oil', 'nan', 'whole wheat pasta'}), support=0.008, ordered_statistics=[OrderedStatistic(items_base=frozenset({'whole wheat pasta'}), items_add=frozenset({'olive oil', 'nan'}), confidence=0.2714932126696833, lift=4.130221288078346), OrderedStatistic(items_base=frozenset({'nan', 'whole wheat pasta'}), items_add=frozenset({'olive oil'}), confidence=0.2714932126696833, lift=4.130221288078346)]), RelationRecord(items=frozenset({'shrimp', 'pasta', 'nan'}), support=0.005066666666666666, ordered_statistics=[OrderedStatistic(items_base=frozenset({'pasta'}), items_add=frozenset({'shrimp', 'nan'}), confidence=0.3220338983050848, lift=4.514493901473151), OrderedStatistic(items_base=frozenset({'pasta', 'nan'}), items_add=frozenset({'shrimp'}), confidence=0.3220338983050848, lift=4.514493901473151)]), RelationRecord(items=frozenset({'olive oil', 'spaghetti', 'pancakes'}), support=0.005066666666666666, ordered_statistics=[OrderedStatistic(items_base=frozenset({'spaghetti', 'pancakes'}), items_add=frozenset({'olive oil'}), confidence=0.20105820105820105, lift=3.0586947422647217)]), RelationRecord(items=frozenset({'shrimp', 'frozen vegetables', 'nan', 'chocolate'}), support=0.005333333333333333, ordered_statistics=[OrderedStatistic(items_base=frozenset({'frozen vegetables', 'chocolate'}), items_add=frozenset({'shrimp', 'nan'}), confidence=0.23255813953488372, lift=3.260160834601174), OrderedStatistic(items_base=frozenset({'shrimp', 'chocolate'}), items_add=frozenset({'frozen vegetables', 'nan'}), confidence=0.29629629629629634, lift=3.1080031080031083), OrderedStatistic(items_base=frozenset({'frozen vegetables', 'nan', 'chocolate'}), items_add=frozenset({'shrimp'}), confidence=0.23255813953488372, lift=3.260160834601174), OrderedStatistic(items_base=frozenset({'shrimp', 'nan', 'chocolate'}), items_add=frozenset({'frozen vegetables'}), confidence=0.29629629629629634, lift=3.1080031080031083)]), RelationRecord(items=frozenset({'ground beef', 'cooking oil', 'nan', 'spaghetti'}), support=0.0048, ordered_statistics=[OrderedStatistic(items_base=frozenset({'ground beef', 'cooking oil'}), items_add=frozenset({'nan', 'spaghetti'}), confidence=0.5714285714285714, lift=3.281557646029315), OrderedStatistic(items_base=frozenset({'cooking oil', 'spaghetti'}), items_add=frozenset({'ground beef', 'nan'}), confidence=0.30252100840336127, lift=3.0785719986773534), OrderedStatistic(items_base=frozenset({'ground beef', 'cooking oil', 'nan'}), items_add=frozenset({'spaghetti'}), confidence=0.5714285714285714, lift=3.281557646029315), OrderedStatistic(items_base=frozenset({'cooking oil', 'nan', 'spaghetti'}), items_add=frozenset({'ground beef'}), confidence=0.30252100840336127, lift=3.0785719986773534)]), RelationRecord(items=frozenset({'ground beef', 'frozen vegetables', 'nan', 'spaghetti'}), support=0.008666666666666666, ordered_statistics=[OrderedStatistic(items_base=frozenset({'frozen vegetables', 'spaghetti'}), items_add=frozenset({'ground beef', 'nan'}), confidence=0.3110047846889952, lift=3.164906221394116), OrderedStatistic(items_base=frozenset({'frozen vegetables', 'nan', 'spaghetti'}), items_add=frozenset({'ground beef'}), confidence=0.3110047846889952, lift=3.164906221394116)]), RelationRecord(items=frozenset({'milk', 'frozen vegetables', 'mineral water', 'spaghetti'}), support=0.004533333333333334, ordered_statistics=[OrderedStatistic(items_base=frozenset({'milk', 'mineral water', 'spaghetti'}), items_add=frozenset({'frozen vegetables'}), confidence=0.28813559322033905, lift=3.0224013274860737)]), RelationRecord(items=frozenset({'olive oil', 'milk', 'frozen vegetables', 'nan'}), support=0.0048, ordered_statistics=[OrderedStatistic(items_base=frozenset({'milk', 'frozen vegetables'}), items_add=frozenset({'olive oil', 'nan'}), confidence=0.20338983050847456, lift=3.094165778526489), OrderedStatistic(items_base=frozenset({'olive oil', 'frozen vegetables'}), items_add=frozenset({'milk', 'nan'}), confidence=0.4235294117647058, lift=3.26797385620915), OrderedStatistic(items_base=frozenset({'milk', 'frozen vegetables', 'nan'}), items_add=frozenset({'olive oil'}), confidence=0.20338983050847456, lift=3.094165778526489), OrderedStatistic(items_base=frozenset({'olive oil', 'frozen vegetables', 'nan'}), items_add=frozenset({'milk'}), confidence=0.4235294117647058, lift=3.26797385620915)]), RelationRecord(items=frozenset({'mineral water', 'shrimp', 'frozen vegetables', 'nan'}), support=0.0072, ordered_statistics=[OrderedStatistic(items_base=frozenset({'mineral water', 'shrimp'}), items_add=frozenset({'frozen vegetables', 'nan'}), confidence=0.3068181818181818, lift=3.2183725365543547), OrderedStatistic(items_base=frozenset({'mineral water', 'shrimp', 'nan'}), items_add=frozenset({'frozen vegetables'}), confidence=0.3068181818181818, lift=3.2183725365543547)]), RelationRecord(items=frozenset({'olive oil', 'frozen vegetables', 'nan', 'spaghetti'}), support=0.005733333333333333, ordered_statistics=[OrderedStatistic(items_base=frozenset({'frozen vegetables', 'spaghetti'}), items_add=frozenset({'olive oil', 'nan'}), confidence=0.20574162679425836, lift=3.1299436124887174), OrderedStatistic(items_base=frozenset({'frozen vegetables', 'nan', 'spaghetti'}), items_add=frozenset({'olive oil'}), confidence=0.20574162679425836, lift=3.1299436124887174)]), RelationRecord(items=frozenset({'shrimp', 'frozen vegetables', 'nan', 'spaghetti'}), support=0.006, ordered_statistics=[OrderedStatistic(items_base=frozenset({'frozen vegetables', 'spaghetti'}), items_add=frozenset({'shrimp', 'nan'}), confidence=0.21531100478468898, lift=3.0183785717479763), OrderedStatistic(items_base=frozenset({'frozen vegetables', 'nan', 'spaghetti'}), items_add=frozenset({'shrimp'}), confidence=0.21531100478468898, lift=3.0183785717479763)]), RelationRecord(items=frozenset({'tomatoes', 'frozen vegetables', 'nan', 'spaghetti'}), support=0.006666666666666667, ordered_statistics=[OrderedStatistic(items_base=frozenset({'frozen vegetables', 'spaghetti'}), items_add=frozenset({'tomatoes', 'nan'}), confidence=0.23923444976076555, lift=3.497579674864993), OrderedStatistic(items_base=frozenset({'tomatoes', 'spaghetti'}), items_add=frozenset({'frozen vegetables', 'nan'}), confidence=0.3184713375796178, lift=3.340608436149837), OrderedStatistic(items_base=frozenset({'frozen vegetables', 'nan', 'spaghetti'}), items_add=frozenset({'tomatoes'}), confidence=0.23923444976076555, lift=3.497579674864993), OrderedStatistic(items_base=frozenset({'tomatoes', 'nan', 'spaghetti'}), items_add=frozenset({'frozen vegetables'}), confidence=0.3184713375796178, lift=3.340608436149837)]), RelationRecord(items=frozenset({'grated cheese', 'ground beef', 'nan', 'spaghetti'}), support=0.005333333333333333, ordered_statistics=[OrderedStatistic(items_base=frozenset({'grated cheese', 'spaghetti'}), items_add=frozenset({'ground beef', 'nan'}), confidence=0.3225806451612903, lift=3.282706701098612), OrderedStatistic(items_base=frozenset({'grated cheese', 'nan', 'spaghetti'}), items_add=frozenset({'ground beef'}), confidence=0.3225806451612903, lift=3.282706701098612)]), RelationRecord(items=frozenset({'herb & pepper', 'ground beef', 'nan', 'mineral water'}), support=0.006666666666666667, ordered_statistics=[OrderedStatistic(items_base=frozenset({'herb & pepper', 'mineral water'}), items_add=frozenset({'ground beef', 'nan'}), confidence=0.390625, lift=3.975152645861601), OrderedStatistic(items_base=frozenset({'herb & pepper', 'mineral water', 'nan'}), items_add=frozenset({'ground beef'}), confidence=0.390625, lift=3.975152645861601)]), RelationRecord(items=frozenset({'herb & pepper', 'ground beef', 'nan', 'spaghetti'}), support=0.0064, ordered_statistics=[OrderedStatistic(items_base=frozenset({'herb & pepper', 'spaghetti'}), items_add=frozenset({'ground beef', 'nan'}), confidence=0.3934426229508197, lift=4.003825878061259), OrderedStatistic(items_base=frozenset({'herb & pepper', 'nan', 'spaghetti'}), items_add=frozenset({'ground beef'}), confidence=0.3934426229508197, lift=4.003825878061259)]), RelationRecord(items=frozenset({'milk', 'ground beef', 'nan', 'olive oil'}), support=0.004933333333333333, ordered_statistics=[OrderedStatistic(items_base=frozenset({'milk', 'ground beef'}), items_add=frozenset({'olive oil', 'nan'}), confidence=0.22424242424242424, lift=3.411395906324912), OrderedStatistic(items_base=frozenset({'milk', 'ground beef', 'nan'}), items_add=frozenset({'olive oil'}), confidence=0.22424242424242424, lift=3.411395906324912)]), RelationRecord(items=frozenset({'ground beef', 'shrimp', 'nan', 'spaghetti'}), support=0.006, ordered_statistics=[OrderedStatistic(items_base=frozenset({'ground beef', 'shrimp'}), items_add=frozenset({'nan', 'spaghetti'}), confidence=0.5232558139534884, lift=3.004914704939635), OrderedStatistic(items_base=frozenset({'ground beef', 'shrimp', 'nan'}), items_add=frozenset({'spaghetti'}), confidence=0.5232558139534884, lift=3.004914704939635)]), RelationRecord(items=frozenset({'olive oil', 'milk', 'nan', 'spaghetti'}), support=0.0072, ordered_statistics=[OrderedStatistic(items_base=frozenset({'milk', 'spaghetti'}), items_add=frozenset({'olive oil', 'nan'}), confidence=0.20300751879699247, lift=3.0883496774390333), OrderedStatistic(items_base=frozenset({'milk', 'nan', 'spaghetti'}), items_add=frozenset({'olive oil'}), confidence=0.20300751879699247, lift=3.0883496774390333)]), RelationRecord(items=frozenset({'soup', 'olive oil', 'mineral water', 'nan'}), support=0.0052, ordered_statistics=[OrderedStatistic(items_base=frozenset({'soup', 'mineral water'}), items_add=frozenset({'olive oil', 'nan'}), confidence=0.2254335260115607, lift=3.4295161157945335), OrderedStatistic(items_base=frozenset({'soup', 'mineral water', 'nan'}), items_add=frozenset({'olive oil'}), confidence=0.2254335260115607, lift=3.4295161157945335)]), RelationRecord(items=frozenset({'olive oil', 'spaghetti', 'nan', 'pancakes'}), support=0.005066666666666666, ordered_statistics=[OrderedStatistic(items_base=frozenset({'spaghetti', 'pancakes'}), items_add=frozenset({'olive oil', 'nan'}), confidence=0.20105820105820105, lift=3.0586947422647217), OrderedStatistic(items_base=frozenset({'spaghetti', 'nan', 'pancakes'}), items_add=frozenset({'olive oil'}), confidence=0.20105820105820105, lift=3.0586947422647217)]), RelationRecord(items=frozenset({'mineral water', 'frozen vegetables', 'nan', 'spaghetti', 'milk'}), support=0.004533333333333334, ordered_statistics=[OrderedStatistic(items_base=frozenset({'milk', 'mineral water', 'spaghetti'}), items_add=frozenset({'frozen vegetables', 'nan'}), confidence=0.28813559322033905, lift=3.0224013274860737), OrderedStatistic(items_base=frozenset({'milk', 'nan', 'mineral water', 'spaghetti'}), items_add=frozenset({'frozen vegetables'}), confidence=0.28813559322033905, lift=3.0224013274860737)])]\n"
     ]
    }
   ],
   "source": [
    "print(association_results)"
   ]
  },
  {
   "cell_type": "markdown",
   "metadata": {
    "id": "iY1Nwq878wPn"
   },
   "source": [
    "## How many relation derived"
   ]
  },
  {
   "cell_type": "code",
   "execution_count": 9,
   "metadata": {
    "ExecuteTime": {
     "end_time": "2019-05-31T11:46:55.776118Z",
     "start_time": "2019-05-31T11:46:55.770118Z"
    },
    "colab": {
     "base_uri": "https://localhost:8080/"
    },
    "executionInfo": {
     "elapsed": 406,
     "status": "ok",
     "timestamp": 1727072641431,
     "user": {
      "displayName": "Shilpa Sonawani",
      "userId": "06411112398944637592"
     },
     "user_tz": -330
    },
    "id": "RuCpoBOF8wPo",
    "outputId": "c680e343-077e-4dc9-9cb2-78fdd4f37144"
   },
   "outputs": [
    {
     "name": "stdout",
     "output_type": "stream",
     "text": [
      "There are 48 Relation derived.\n"
     ]
    }
   ],
   "source": [
    "print(\"There are {} Relation derived.\".format(len(association_results)))"
   ]
  },
  {
   "cell_type": "markdown",
   "metadata": {
    "id": "xEPkwN7J8wPp"
   },
   "source": [
    "### Association Rules Derived"
   ]
  },
  {
   "cell_type": "code",
   "execution_count": 10,
   "metadata": {
    "ExecuteTime": {
     "end_time": "2019-05-31T11:46:55.873119Z",
     "start_time": "2019-05-31T11:46:55.778119Z"
    },
    "code_folding": [],
    "colab": {
     "base_uri": "https://localhost:8080/"
    },
    "executionInfo": {
     "elapsed": 437,
     "status": "ok",
     "timestamp": 1727072654333,
     "user": {
      "displayName": "Shilpa Sonawani",
      "userId": "06411112398944637592"
     },
     "user_tz": -330
    },
    "id": "ePKOxzIN8wPq",
    "outputId": "5412111e-be00-4f03-e2ff-8e14faf81432"
   },
   "outputs": [
    {
     "name": "stdout",
     "output_type": "stream",
     "text": [
      "frozenset({'light cream', 'chicken'})\n",
      "frozenset({'mushroom cream sauce', 'escalope'})\n",
      "frozenset({'pasta', 'escalope'})\n",
      "frozenset({'herb & pepper', 'ground beef'})\n",
      "frozenset({'ground beef', 'tomato sauce'})\n",
      "frozenset({'olive oil', 'whole wheat pasta'})\n",
      "frozenset({'shrimp', 'pasta'})\n",
      "frozenset({'light cream', 'chicken', 'nan'})\n",
      "frozenset({'shrimp', 'frozen vegetables', 'chocolate'})\n",
      "frozenset({'ground beef', 'cooking oil', 'spaghetti'})\n",
      "frozenset({'mushroom cream sauce', 'nan', 'escalope'})\n",
      "frozenset({'pasta', 'nan', 'escalope'})\n",
      "frozenset({'ground beef', 'frozen vegetables', 'spaghetti'})\n",
      "frozenset({'olive oil', 'milk', 'frozen vegetables'})\n",
      "frozenset({'mineral water', 'shrimp', 'frozen vegetables'})\n",
      "frozenset({'olive oil', 'frozen vegetables', 'spaghetti'})\n",
      "frozenset({'shrimp', 'frozen vegetables', 'spaghetti'})\n",
      "frozenset({'tomatoes', 'frozen vegetables', 'spaghetti'})\n",
      "frozenset({'grated cheese', 'ground beef', 'spaghetti'})\n",
      "frozenset({'herb & pepper', 'ground beef', 'mineral water'})\n",
      "frozenset({'herb & pepper', 'ground beef', 'nan'})\n",
      "frozenset({'herb & pepper', 'ground beef', 'spaghetti'})\n",
      "frozenset({'milk', 'ground beef', 'olive oil'})\n",
      "frozenset({'ground beef', 'tomato sauce', 'nan'})\n",
      "frozenset({'ground beef', 'shrimp', 'spaghetti'})\n",
      "frozenset({'olive oil', 'milk', 'spaghetti'})\n",
      "frozenset({'soup', 'olive oil', 'mineral water'})\n",
      "frozenset({'olive oil', 'nan', 'whole wheat pasta'})\n",
      "frozenset({'shrimp', 'pasta', 'nan'})\n",
      "frozenset({'olive oil', 'spaghetti', 'pancakes'})\n",
      "frozenset({'shrimp', 'frozen vegetables', 'nan', 'chocolate'})\n",
      "frozenset({'ground beef', 'cooking oil', 'nan', 'spaghetti'})\n",
      "frozenset({'ground beef', 'frozen vegetables', 'nan', 'spaghetti'})\n",
      "frozenset({'milk', 'frozen vegetables', 'mineral water', 'spaghetti'})\n",
      "frozenset({'olive oil', 'milk', 'frozen vegetables', 'nan'})\n",
      "frozenset({'mineral water', 'shrimp', 'frozen vegetables', 'nan'})\n",
      "frozenset({'olive oil', 'frozen vegetables', 'nan', 'spaghetti'})\n",
      "frozenset({'shrimp', 'frozen vegetables', 'nan', 'spaghetti'})\n",
      "frozenset({'tomatoes', 'frozen vegetables', 'nan', 'spaghetti'})\n",
      "frozenset({'grated cheese', 'ground beef', 'nan', 'spaghetti'})\n",
      "frozenset({'herb & pepper', 'ground beef', 'nan', 'mineral water'})\n",
      "frozenset({'herb & pepper', 'ground beef', 'nan', 'spaghetti'})\n",
      "frozenset({'milk', 'ground beef', 'nan', 'olive oil'})\n",
      "frozenset({'ground beef', 'shrimp', 'nan', 'spaghetti'})\n",
      "frozenset({'olive oil', 'milk', 'nan', 'spaghetti'})\n",
      "frozenset({'soup', 'olive oil', 'mineral water', 'nan'})\n",
      "frozenset({'olive oil', 'spaghetti', 'nan', 'pancakes'})\n",
      "frozenset({'mineral water', 'frozen vegetables', 'nan', 'spaghetti', 'milk'})\n"
     ]
    }
   ],
   "source": [
    "for i in range(0, len(association_results)):\n",
    "    print(association_results[i][0])"
   ]
  },
  {
   "cell_type": "markdown",
   "metadata": {
    "id": "CzzEKoxP8wPr"
   },
   "source": [
    "## Rules Generated"
   ]
  },
  {
   "cell_type": "code",
   "execution_count": 11,
   "metadata": {
    "ExecuteTime": {
     "end_time": "2019-05-31T11:48:08.589737Z",
     "start_time": "2019-05-31T11:48:08.573742Z"
    },
    "colab": {
     "base_uri": "https://localhost:8080/"
    },
    "executionInfo": {
     "elapsed": 405,
     "status": "ok",
     "timestamp": 1727072664199,
     "user": {
      "displayName": "Shilpa Sonawani",
      "userId": "06411112398944637592"
     },
     "user_tz": -330
    },
    "id": "YgmTgnfe8wPr",
    "outputId": "d08dec65-0723-4e3e-eef7-b1c5b18dd18a",
    "scrolled": false
   },
   "outputs": [
    {
     "name": "stdout",
     "output_type": "stream",
     "text": [
      "Rule: light cream -> chicken\n",
      "Support: 0.004533333333333334\n",
      "Confidence: 0.2905982905982906\n",
      "Lift: 4.843304843304844\n",
      "=====================================\n",
      "Rule: mushroom cream sauce -> escalope\n",
      "Support: 0.005733333333333333\n",
      "Confidence: 0.30069930069930073\n",
      "Lift: 3.7903273197390845\n",
      "=====================================\n",
      "Rule: pasta -> escalope\n",
      "Support: 0.005866666666666667\n",
      "Confidence: 0.37288135593220345\n",
      "Lift: 4.700185158809287\n",
      "=====================================\n",
      "Rule: herb & pepper -> ground beef\n",
      "Support: 0.016\n",
      "Confidence: 0.3234501347708895\n",
      "Lift: 3.2915549671393096\n",
      "=====================================\n",
      "Rule: ground beef -> tomato sauce\n",
      "Support: 0.005333333333333333\n",
      "Confidence: 0.37735849056603776\n",
      "Lift: 3.840147461662528\n",
      "=====================================\n",
      "Rule: olive oil -> whole wheat pasta\n",
      "Support: 0.008\n",
      "Confidence: 0.2714932126696833\n",
      "Lift: 4.130221288078346\n",
      "=====================================\n",
      "Rule: shrimp -> pasta\n",
      "Support: 0.005066666666666666\n",
      "Confidence: 0.3220338983050848\n",
      "Lift: 4.514493901473151\n",
      "=====================================\n",
      "Rule: light cream -> chicken\n",
      "Support: 0.004533333333333334\n",
      "Confidence: 0.2905982905982906\n",
      "Lift: 4.843304843304844\n",
      "=====================================\n",
      "Rule: shrimp -> frozen vegetables\n",
      "Support: 0.005333333333333333\n",
      "Confidence: 0.23255813953488372\n",
      "Lift: 3.260160834601174\n",
      "=====================================\n",
      "Rule: ground beef -> cooking oil\n",
      "Support: 0.0048\n",
      "Confidence: 0.5714285714285714\n",
      "Lift: 3.281557646029315\n",
      "=====================================\n",
      "Rule: mushroom cream sauce -> nan\n",
      "Support: 0.005733333333333333\n",
      "Confidence: 0.30069930069930073\n",
      "Lift: 3.7903273197390845\n",
      "=====================================\n",
      "Rule: pasta -> nan\n",
      "Support: 0.005866666666666667\n",
      "Confidence: 0.37288135593220345\n",
      "Lift: 4.700185158809287\n",
      "=====================================\n",
      "Rule: ground beef -> frozen vegetables\n",
      "Support: 0.008666666666666666\n",
      "Confidence: 0.3110047846889952\n",
      "Lift: 3.164906221394116\n",
      "=====================================\n",
      "Rule: olive oil -> milk\n",
      "Support: 0.0048\n",
      "Confidence: 0.20338983050847456\n",
      "Lift: 3.094165778526489\n",
      "=====================================\n",
      "Rule: mineral water -> shrimp\n",
      "Support: 0.0072\n",
      "Confidence: 0.3068181818181818\n",
      "Lift: 3.2183725365543547\n",
      "=====================================\n",
      "Rule: olive oil -> frozen vegetables\n",
      "Support: 0.005733333333333333\n",
      "Confidence: 0.20574162679425836\n",
      "Lift: 3.1299436124887174\n",
      "=====================================\n",
      "Rule: shrimp -> frozen vegetables\n",
      "Support: 0.006\n",
      "Confidence: 0.21531100478468898\n",
      "Lift: 3.0183785717479763\n",
      "=====================================\n",
      "Rule: tomatoes -> frozen vegetables\n",
      "Support: 0.006666666666666667\n",
      "Confidence: 0.23923444976076555\n",
      "Lift: 3.497579674864993\n",
      "=====================================\n",
      "Rule: grated cheese -> ground beef\n",
      "Support: 0.005333333333333333\n",
      "Confidence: 0.3225806451612903\n",
      "Lift: 3.282706701098612\n",
      "=====================================\n",
      "Rule: herb & pepper -> ground beef\n",
      "Support: 0.006666666666666667\n",
      "Confidence: 0.390625\n",
      "Lift: 3.975152645861601\n",
      "=====================================\n",
      "Rule: herb & pepper -> ground beef\n",
      "Support: 0.016\n",
      "Confidence: 0.3234501347708895\n",
      "Lift: 3.2915549671393096\n",
      "=====================================\n",
      "Rule: herb & pepper -> ground beef\n",
      "Support: 0.0064\n",
      "Confidence: 0.3934426229508197\n",
      "Lift: 4.003825878061259\n",
      "=====================================\n",
      "Rule: milk -> ground beef\n",
      "Support: 0.004933333333333333\n",
      "Confidence: 0.22424242424242424\n",
      "Lift: 3.411395906324912\n",
      "=====================================\n",
      "Rule: ground beef -> tomato sauce\n",
      "Support: 0.005333333333333333\n",
      "Confidence: 0.37735849056603776\n",
      "Lift: 3.840147461662528\n",
      "=====================================\n",
      "Rule: ground beef -> shrimp\n",
      "Support: 0.006\n",
      "Confidence: 0.5232558139534884\n",
      "Lift: 3.004914704939635\n",
      "=====================================\n",
      "Rule: olive oil -> milk\n",
      "Support: 0.0072\n",
      "Confidence: 0.20300751879699247\n",
      "Lift: 3.0883496774390333\n",
      "=====================================\n",
      "Rule: soup -> olive oil\n",
      "Support: 0.0052\n",
      "Confidence: 0.2254335260115607\n",
      "Lift: 3.4295161157945335\n",
      "=====================================\n",
      "Rule: olive oil -> nan\n",
      "Support: 0.008\n",
      "Confidence: 0.2714932126696833\n",
      "Lift: 4.130221288078346\n",
      "=====================================\n",
      "Rule: shrimp -> pasta\n",
      "Support: 0.005066666666666666\n",
      "Confidence: 0.3220338983050848\n",
      "Lift: 4.514493901473151\n",
      "=====================================\n",
      "Rule: olive oil -> spaghetti\n",
      "Support: 0.005066666666666666\n",
      "Confidence: 0.20105820105820105\n",
      "Lift: 3.0586947422647217\n",
      "=====================================\n",
      "Rule: shrimp -> frozen vegetables\n",
      "Support: 0.005333333333333333\n",
      "Confidence: 0.23255813953488372\n",
      "Lift: 3.260160834601174\n",
      "=====================================\n",
      "Rule: ground beef -> cooking oil\n",
      "Support: 0.0048\n",
      "Confidence: 0.5714285714285714\n",
      "Lift: 3.281557646029315\n",
      "=====================================\n",
      "Rule: ground beef -> frozen vegetables\n",
      "Support: 0.008666666666666666\n",
      "Confidence: 0.3110047846889952\n",
      "Lift: 3.164906221394116\n",
      "=====================================\n",
      "Rule: milk -> frozen vegetables\n",
      "Support: 0.004533333333333334\n",
      "Confidence: 0.28813559322033905\n",
      "Lift: 3.0224013274860737\n",
      "=====================================\n",
      "Rule: olive oil -> milk\n",
      "Support: 0.0048\n",
      "Confidence: 0.20338983050847456\n",
      "Lift: 3.094165778526489\n",
      "=====================================\n",
      "Rule: mineral water -> shrimp\n",
      "Support: 0.0072\n",
      "Confidence: 0.3068181818181818\n",
      "Lift: 3.2183725365543547\n",
      "=====================================\n",
      "Rule: olive oil -> frozen vegetables\n",
      "Support: 0.005733333333333333\n",
      "Confidence: 0.20574162679425836\n",
      "Lift: 3.1299436124887174\n",
      "=====================================\n",
      "Rule: shrimp -> frozen vegetables\n",
      "Support: 0.006\n",
      "Confidence: 0.21531100478468898\n",
      "Lift: 3.0183785717479763\n",
      "=====================================\n",
      "Rule: tomatoes -> frozen vegetables\n",
      "Support: 0.006666666666666667\n",
      "Confidence: 0.23923444976076555\n",
      "Lift: 3.497579674864993\n",
      "=====================================\n",
      "Rule: grated cheese -> ground beef\n",
      "Support: 0.005333333333333333\n",
      "Confidence: 0.3225806451612903\n",
      "Lift: 3.282706701098612\n",
      "=====================================\n",
      "Rule: herb & pepper -> ground beef\n",
      "Support: 0.006666666666666667\n",
      "Confidence: 0.390625\n",
      "Lift: 3.975152645861601\n",
      "=====================================\n",
      "Rule: herb & pepper -> ground beef\n",
      "Support: 0.0064\n",
      "Confidence: 0.3934426229508197\n",
      "Lift: 4.003825878061259\n",
      "=====================================\n",
      "Rule: milk -> ground beef\n",
      "Support: 0.004933333333333333\n",
      "Confidence: 0.22424242424242424\n",
      "Lift: 3.411395906324912\n",
      "=====================================\n",
      "Rule: ground beef -> shrimp\n",
      "Support: 0.006\n",
      "Confidence: 0.5232558139534884\n",
      "Lift: 3.004914704939635\n",
      "=====================================\n",
      "Rule: olive oil -> milk\n",
      "Support: 0.0072\n",
      "Confidence: 0.20300751879699247\n",
      "Lift: 3.0883496774390333\n",
      "=====================================\n",
      "Rule: soup -> olive oil\n",
      "Support: 0.0052\n",
      "Confidence: 0.2254335260115607\n",
      "Lift: 3.4295161157945335\n",
      "=====================================\n",
      "Rule: olive oil -> spaghetti\n",
      "Support: 0.005066666666666666\n",
      "Confidence: 0.20105820105820105\n",
      "Lift: 3.0586947422647217\n",
      "=====================================\n",
      "Rule: mineral water -> frozen vegetables\n",
      "Support: 0.004533333333333334\n",
      "Confidence: 0.28813559322033905\n",
      "Lift: 3.0224013274860737\n",
      "=====================================\n"
     ]
    }
   ],
   "source": [
    "for item in association_results:\n",
    "    # first index of the inner list\n",
    "    # Contains base item and add item\n",
    "    pair = item[0]\n",
    "    items = [x for x in pair]\n",
    "    print(\"Rule: \" + items[0] + \" -> \" + items[1])\n",
    "\n",
    "    # second index of the inner list\n",
    "    print(\"Support: \" + str(item[1]))\n",
    "\n",
    "    # third index of the list located at 0th\n",
    "    # of the third index of the inner list\n",
    "\n",
    "    print(\"Confidence: \" + str(item[2][0][2]))\n",
    "    print(\"Lift: \" + str(item[2][0][3]))\n",
    "    print(\"=====================================\")"
   ]
  },
  {
   "cell_type": "markdown",
   "metadata": {
    "ExecuteTime": {
     "end_time": "2019-05-31T11:56:17.717346Z",
     "start_time": "2019-05-31T11:56:17.713349Z"
    },
    "id": "3HglEebc8wPs"
   },
   "source": []
  }
 ],
 "metadata": {
  "colab": {
   "provenance": []
  },
  "hide_input": false,
  "kernelspec": {
   "display_name": "Python 3 (ipykernel)",
   "language": "python",
   "name": "python3"
  },
  "language_info": {
   "codemirror_mode": {
    "name": "ipython",
    "version": 3
   },
   "file_extension": ".py",
   "mimetype": "text/x-python",
   "name": "python",
   "nbconvert_exporter": "python",
   "pygments_lexer": "ipython3",
   "version": "3.11.5"
  },
  "latex_envs": {
   "LaTeX_envs_menu_present": true,
   "autoclose": false,
   "autocomplete": true,
   "bibliofile": "biblio.bib",
   "cite_by": "apalike",
   "current_citInitial": 1,
   "eqLabelWithNumbers": true,
   "eqNumInitial": 1,
   "hotkeys": {
    "equation": "Ctrl-E",
    "itemize": "Ctrl-I"
   },
   "labels_anchors": false,
   "latex_user_defs": false,
   "report_style_numbering": false,
   "user_envs_cfg": false
  },
  "nbTranslate": {
   "displayLangs": [
    "*"
   ],
   "hotkey": "alt-t",
   "langInMainMenu": true,
   "sourceLang": "en",
   "targetLang": "fr",
   "useGoogleTranslate": true
  },
  "toc": {
   "base_numbering": 1,
   "nav_menu": {},
   "number_sections": true,
   "sideBar": true,
   "skip_h1_title": false,
   "title_cell": "Table of Contents",
   "title_sidebar": "Contents",
   "toc_cell": false,
   "toc_position": {},
   "toc_section_display": true,
   "toc_window_display": false
  },
  "varInspector": {
   "cols": {
    "lenName": 16,
    "lenType": 16,
    "lenVar": 40
   },
   "kernels_config": {
    "python": {
     "delete_cmd_postfix": "",
     "delete_cmd_prefix": "del ",
     "library": "var_list.py",
     "varRefreshCmd": "print(var_dic_list())"
    },
    "r": {
     "delete_cmd_postfix": ") ",
     "delete_cmd_prefix": "rm(",
     "library": "var_list.r",
     "varRefreshCmd": "cat(var_dic_list()) "
    }
   },
   "types_to_exclude": [
    "module",
    "function",
    "builtin_function_or_method",
    "instance",
    "_Feature"
   ],
   "window_display": false
  }
 },
 "nbformat": 4,
 "nbformat_minor": 1
}
